{
 "cells": [
  {
   "cell_type": "markdown",
   "id": "babc507a",
   "metadata": {},
   "source": [
    "# Proyecto"
   ]
  },
  {
   "cell_type": "markdown",
   "id": "38e790d9",
   "metadata": {},
   "source": [
    "## 1. Introducción"
   ]
  },
  {
   "cell_type": "markdown",
   "id": "1080ee63",
   "metadata": {},
   "source": [
    "## 2. Pasos preliminares"
   ]
  },
  {
   "cell_type": "markdown",
   "id": "494248d1",
   "metadata": {},
   "source": [
    "### 2.1. Instalación de dependencias\n"
   ]
  },
  {
   "cell_type": "code",
   "execution_count": null,
   "id": "7c8e0b2e",
   "metadata": {},
   "outputs": [
    {
     "name": "stdout",
     "output_type": "stream",
     "text": [
      "Defaulting to user installation because normal site-packages is not writeable\n",
      "Collecting seaborn\n",
      "  Downloading seaborn-0.13.2-py3-none-any.whl (294 kB)\n",
      "\u001b[2K     \u001b[90m━━━━━━━━━━━━━━━━━━━━━━━━━━━━━━━━━━━━━━━\u001b[0m \u001b[32m294.9/294.9 KB\u001b[0m \u001b[31m1.8 MB/s\u001b[0m eta \u001b[36m0:00:00\u001b[0ma \u001b[36m0:00:01\u001b[0m\n",
      "\u001b[?25hRequirement already satisfied: numpy!=1.24.0,>=1.20 in /home/rsaavedrav/.local/lib/python3.10/site-packages (from seaborn) (1.26.1)\n",
      "Requirement already satisfied: pandas>=1.2 in /home/rsaavedrav/.local/lib/python3.10/site-packages (from seaborn) (2.1.3)\n",
      "Requirement already satisfied: matplotlib!=3.6.1,>=3.4 in /home/rsaavedrav/.local/lib/python3.10/site-packages (from seaborn) (3.8.2)\n",
      "Requirement already satisfied: pyparsing>=2.3.1 in /usr/lib/python3/dist-packages (from matplotlib!=3.6.1,>=3.4->seaborn) (2.4.7)\n",
      "Requirement already satisfied: contourpy>=1.0.1 in /home/rsaavedrav/.local/lib/python3.10/site-packages (from matplotlib!=3.6.1,>=3.4->seaborn) (1.2.0)\n",
      "Requirement already satisfied: kiwisolver>=1.3.1 in /home/rsaavedrav/.local/lib/python3.10/site-packages (from matplotlib!=3.6.1,>=3.4->seaborn) (1.4.5)\n",
      "Requirement already satisfied: cycler>=0.10 in /home/rsaavedrav/.local/lib/python3.10/site-packages (from matplotlib!=3.6.1,>=3.4->seaborn) (0.12.1)\n",
      "Requirement already satisfied: packaging>=20.0 in /home/rsaavedrav/.local/lib/python3.10/site-packages (from matplotlib!=3.6.1,>=3.4->seaborn) (23.2)\n",
      "Requirement already satisfied: fonttools>=4.22.0 in /home/rsaavedrav/.local/lib/python3.10/site-packages (from matplotlib!=3.6.1,>=3.4->seaborn) (4.45.1)\n",
      "Requirement already satisfied: pillow>=8 in /home/rsaavedrav/.local/lib/python3.10/site-packages (from matplotlib!=3.6.1,>=3.4->seaborn) (10.1.0)\n",
      "Requirement already satisfied: python-dateutil>=2.7 in /home/rsaavedrav/.local/lib/python3.10/site-packages (from matplotlib!=3.6.1,>=3.4->seaborn) (2.8.2)\n",
      "Requirement already satisfied: pytz>=2020.1 in /home/rsaavedrav/.local/lib/python3.10/site-packages (from pandas>=1.2->seaborn) (2023.3.post1)\n",
      "Requirement already satisfied: tzdata>=2022.1 in /home/rsaavedrav/.local/lib/python3.10/site-packages (from pandas>=1.2->seaborn) (2023.3)\n",
      "Requirement already satisfied: six>=1.5 in /usr/lib/python3/dist-packages (from python-dateutil>=2.7->matplotlib!=3.6.1,>=3.4->seaborn) (1.16.0)\n",
      "Installing collected packages: seaborn\n",
      "Successfully installed seaborn-0.13.2\n",
      "Note: you may need to restart the kernel to use updated packages.\n"
     ]
    }
   ],
   "source": [
    "%pip install seaborn\n",
    "%pip install prettytable\n"
   ]
  },
  {
   "cell_type": "code",
   "execution_count": null,
   "id": "ad5e0a3a",
   "metadata": {},
   "outputs": [],
   "source": [
    "import pandas as pd\n",
    "import numpy as np\n",
    "import os\n"
   ]
  },
  {
   "cell_type": "markdown",
   "id": "4d3a6ec1",
   "metadata": {},
   "source": [
    "### 2.2. Cargar datos"
   ]
  },
  {
   "cell_type": "code",
   "execution_count": 98,
   "id": "b15143d8",
   "metadata": {},
   "outputs": [
    {
     "data": {
      "text/html": [
       "<div>\n",
       "<style scoped>\n",
       "    .dataframe tbody tr th:only-of-type {\n",
       "        vertical-align: middle;\n",
       "    }\n",
       "\n",
       "    .dataframe tbody tr th {\n",
       "        vertical-align: top;\n",
       "    }\n",
       "\n",
       "    .dataframe thead th {\n",
       "        text-align: right;\n",
       "    }\n",
       "</style>\n",
       "<table border=\"1\" class=\"dataframe\">\n",
       "  <thead>\n",
       "    <tr style=\"text-align: right;\">\n",
       "      <th></th>\n",
       "      <th>itemId</th>\n",
       "      <th>userId</th>\n",
       "      <th>rating</th>\n",
       "      <th>timestamp</th>\n",
       "    </tr>\n",
       "  </thead>\n",
       "  <tbody>\n",
       "    <tr>\n",
       "      <th>0</th>\n",
       "      <td>0439381673</td>\n",
       "      <td>A21ROB4YDOZA5P</td>\n",
       "      <td>1.0</td>\n",
       "      <td>1402272000</td>\n",
       "    </tr>\n",
       "    <tr>\n",
       "      <th>1</th>\n",
       "      <td>0439381673</td>\n",
       "      <td>A3TNZ2Q5E7HTHD</td>\n",
       "      <td>3.0</td>\n",
       "      <td>1399680000</td>\n",
       "    </tr>\n",
       "    <tr>\n",
       "      <th>2</th>\n",
       "      <td>0439381673</td>\n",
       "      <td>A1OKRM3QFEATQO</td>\n",
       "      <td>4.0</td>\n",
       "      <td>1391731200</td>\n",
       "    </tr>\n",
       "    <tr>\n",
       "      <th>3</th>\n",
       "      <td>0439381673</td>\n",
       "      <td>A2XO1JFCNEYV3T</td>\n",
       "      <td>1.0</td>\n",
       "      <td>1391731200</td>\n",
       "    </tr>\n",
       "    <tr>\n",
       "      <th>4</th>\n",
       "      <td>0439381673</td>\n",
       "      <td>A19WLPIRHD15TH</td>\n",
       "      <td>4.0</td>\n",
       "      <td>1389830400</td>\n",
       "    </tr>\n",
       "  </tbody>\n",
       "</table>\n",
       "</div>"
      ],
      "text/plain": [
       "       itemId          userId  rating   timestamp\n",
       "0  0439381673  A21ROB4YDOZA5P     1.0  1402272000\n",
       "1  0439381673  A3TNZ2Q5E7HTHD     3.0  1399680000\n",
       "2  0439381673  A1OKRM3QFEATQO     4.0  1391731200\n",
       "3  0439381673  A2XO1JFCNEYV3T     1.0  1391731200\n",
       "4  0439381673  A19WLPIRHD15TH     4.0  1389830400"
      ]
     },
     "execution_count": 98,
     "metadata": {},
     "output_type": "execute_result"
    }
   ],
   "source": [
    "ratings_df = pd.read_csv('videogame_ratings.csv')   # userId, itemId, rating, timestamp\n",
    "videogames_df = pd.read_csv('videogames.csv')       # itemId, name\n",
    "\n",
    "ratings_df.head()"
   ]
  },
  {
   "cell_type": "code",
   "execution_count": 99,
   "id": "ea16e619",
   "metadata": {},
   "outputs": [
    {
     "name": "stdout",
     "output_type": "stream",
     "text": [
      "ratings_df shape: (2565349, 4)\n",
      "videogames_df shape: (84819, 2)\n",
      "N° Usuarios: 1540618\n",
      "N° Videogames: 71982\n"
     ]
    }
   ],
   "source": [
    "# shape ratings df and videogames df, unique userId\n",
    "\n",
    "print(f\"ratings_df shape: {ratings_df.shape}\")\n",
    "print(f\"videogames_df shape: {videogames_df.shape}\")\n",
    "print(f\"N° Usuarios: {ratings_df['userId'].nunique()}\")\n",
    "print(f\"N° Videogames: {ratings_df['itemId'].nunique()}\")"
   ]
  },
  {
   "cell_type": "markdown",
   "id": "58b1fa3f",
   "metadata": {},
   "source": [
    "### 2.3. Preprocesar datos"
   ]
  },
  {
   "cell_type": "code",
   "execution_count": 100,
   "id": "7ca03fb6",
   "metadata": {},
   "outputs": [
    {
     "name": "stdout",
     "output_type": "stream",
     "text": [
      "16154\n"
     ]
    }
   ],
   "source": [
    "print(videogames_df['name'].duplicated().sum())  "
   ]
  },
  {
   "cell_type": "markdown",
   "id": "b7f036df",
   "metadata": {},
   "source": [
    "Existen videojuegos que poseen más de 1 ID en Amazon, esto es debido a versiones/metadata distinta. Por lo tanto, realizamos un preprocesamiento donde dejamos un solo ID por videojuego. (El primer ID encontrado) y lo reemplazamos en el dataset de reviews. Esto se hace para evitar duplicados y que el modelo no aprenda de más de un ID por videojuego. "
   ]
  },
  {
   "cell_type": "code",
   "execution_count": 107,
   "id": "c4153708",
   "metadata": {},
   "outputs": [],
   "source": [
    "import pandas as pd\n",
    "\n",
    "# 1. Mapeo de nombres a IDs reales y de Ids a reales\n",
    "name_to_real_id = videogames_df.groupby('name')['itemId'].first()\n",
    "videogames_df['realId'] = videogames_df['name'].map(name_to_real_id)\n",
    "id_to_real = videogames_df.set_index('itemId')['realId'].to_dict()\n",
    "\n",
    "# 3. Reemplazamos itemId en ratings_df\n",
    "ratings_df['itemId'] = ratings_df['itemId'].map(id_to_real)\n",
    "videogames_df['itemId'] = videogames_df['realId']\n",
    "\n",
    "# 4. Limpiamos el DataFrame de videojuegos\n",
    "clean_videogames_df = (\n",
    "    videogames_df\n",
    "    .drop(columns=['realId'])\n",
    "    .drop_duplicates(subset='itemId')\n",
    "    .reset_index(drop=True)\n",
    ")\n",
    "\n",
    "videogames_df = clean_videogames_df\n"
   ]
  },
  {
   "cell_type": "code",
   "execution_count": 106,
   "id": "594772be",
   "metadata": {},
   "outputs": [
    {
     "name": "stdout",
     "output_type": "stream",
     "text": [
      "N° Videogames: 68662\n"
     ]
    }
   ],
   "source": [
    "print(f\"N° Videogames: {ratings_df['itemId'].nunique()}\")\n"
   ]
  },
  {
   "cell_type": "markdown",
   "id": "fceb5438",
   "metadata": {},
   "source": [
    "### 2.4. Particionar datos"
   ]
  },
  {
   "cell_type": "code",
   "execution_count": null,
   "id": "b365ca12",
   "metadata": {},
   "outputs": [
    {
     "name": "stdout",
     "output_type": "stream",
     "text": [
      "Train: 102614 filas\n",
      "Validation: 25653 filas\n",
      "Real test size: 20.00%\n"
     ]
    }
   ],
   "source": [
    "from sklearn.model_selection import train_test_split\n",
    "\n",
    "TEST_SIZE = 0.2 \n",
    "DATASET_SIZE = 0.05\n",
    "RANDOM_STATE = 42\n",
    "\n",
    "df = ratings_df.sample(frac=DATASET_SIZE, random_state=RANDOM_STATE)\n",
    "\n",
    "# 1. Split inicial utilizando TEST_SIZE\n",
    "train_df, val_df = train_test_split(df, test_size=TEST_SIZE, random_state=RANDOM_STATE)\n",
    "\n",
    "# 2. Detectar cold-start en validación (no queremos usuarios que no estén en train)\n",
    "train_users = set(train_df['userId'])\n",
    "cold_mask = ~val_df['userId'].isin(train_users)\n",
    "\n",
    "# 3. Separar interacciones frías\n",
    "cold_df = val_df[cold_mask]\n",
    "val_df = val_df[~cold_mask]\n",
    "\n",
    "# 4. Reintegrar las frías al entrenamiento\n",
    "train_df = pd.concat([train_df, cold_df], ignore_index=True)\n",
    "\n",
    "# 5. Ajustar test al valor TEST_SIZE exacto: (Los pasos anteriores reducen el tamaño de val_df)\n",
    "desired_n_val = int(TEST_SIZE * len(df))\n",
    "current_n_val = len(val_df)\n",
    "n_needed = desired_n_val - current_n_val\n",
    "\n",
    "if n_needed > 0:\n",
    "    # Tomamos n_needed ejemplos adicionales desde train_df\n",
    "    extra_val = train_df.sample(n=n_needed, random_state=RANDOM_STATE)\n",
    "    \n",
    "    # Los quitamos de train y los añadimos a val\n",
    "    train_df = train_df.drop(extra_val.index).reset_index(drop=True)\n",
    "    val_df = pd.concat([val_df, extra_val], ignore_index=True)\n",
    "\n",
    "# 6. Comprobación de tamaños\n",
    "print(f\"Train: {train_df.shape[0]} filas\")\n",
    "print(f\"Validation: {val_df.shape[0]} filas\")\n",
    "print(f\"Real test size: {val_df.shape[0] / (train_df.shape[0] + val_df.shape[0]):.2%}\")"
   ]
  },
  {
   "cell_type": "markdown",
   "id": "fd7ce996",
   "metadata": {},
   "source": [
    "### 2.5. Estadísticas de los datos"
   ]
  },
  {
   "cell_type": "code",
   "execution_count": null,
   "id": "7258981a",
   "metadata": {},
   "outputs": [],
   "source": [
    "from prettytable import PrettyTable\n",
    "\n",
    "def df_stats(df):\n",
    "    n_users = df['userId'].nunique()\n",
    "    n_items = df['itemId'].nunique()\n",
    "    total_ratings = len(df)\n",
    "    avg_rpu = round(total_ratings / n_users, 1)\n",
    "    avg_rpi = round(total_ratings / n_items, 1)\n",
    "    avg_rating = round(df['rating'].mean(), 1)\n",
    "    std_rating = round(df['rating'].std(), 1)\n",
    "    max_by_user = df.groupby('userId').size().max()\n",
    "    max_by_item = df.groupby('itemId').size().max()\n",
    "    return {\n",
    "        'Number of Users': n_users,\n",
    "        'Number of Items': n_items,\n",
    "        'Total Ratings': total_ratings,\n",
    "        'Average Number of Ratings per User': avg_rpu,\n",
    "        'Average Number of Ratings per Item': avg_rpi,\n",
    "        'Average Rating': avg_rating,\n",
    "        'Rating Standard Deviation': std_rating,\n",
    "        'Highest Number of Ratings by a User': max_by_user,\n",
    "        'Highest Number of Ratings for an Item': max_by_item,\n",
    "    }\n"
   ]
  },
  {
   "cell_type": "code",
   "execution_count": null,
   "id": "c88693f6",
   "metadata": {},
   "outputs": [
    {
     "name": "stdout",
     "output_type": "stream",
     "text": [
      "+-------------------------------------------------------------+\n",
      "|       Tabla estatísticas de entrenamiento y validación      |\n",
      "+---------------------------------------+--------+------------+\n",
      "|                 Metric                | Train  | Validation |\n",
      "+---------------------------------------+--------+------------+\n",
      "|            Number of Users            | 97928  |   24500    |\n",
      "|            Number of Items            | 23174  |   10973    |\n",
      "|             Total Ratings             | 102614 |   25653    |\n",
      "|   Average Number of Ratings per User  |  1.0   |    1.0     |\n",
      "|   Average Number of Ratings per Item  |  4.4   |    2.3     |\n",
      "|             Average Rating            |  4.0   |    4.0     |\n",
      "|       Rating Standard Deviation       |  1.4   |    1.4     |\n",
      "|  Highest Number of Ratings by a User  |   29   |     14     |\n",
      "| Highest Number of Ratings for an Item |  348   |     74     |\n",
      "|             Densidad ( %)             | 0.0 %  |   0.0 %    |\n",
      "+---------------------------------------+--------+------------+\n"
     ]
    }
   ],
   "source": [
    "stats_train = df_stats(train_df)\n",
    "stats_val   = df_stats(val_df)\n",
    "\n",
    "table = PrettyTable()\n",
    "table.title = \"Tabla estatísticas de entrenamiento y validación\"\n",
    "table.field_names = [\"Métrica\", \"Train\", \"Validation\"]\n",
    "for metric in stats_train.keys():\n",
    "    table.add_row([metric, stats_train[metric], stats_val[metric]])\n",
    "print(table)\n"
   ]
  }
 ],
 "metadata": {
  "kernelspec": {
   "display_name": "Python 3",
   "language": "python",
   "name": "python3"
  },
  "language_info": {
   "codemirror_mode": {
    "name": "ipython",
    "version": 3
   },
   "file_extension": ".py",
   "mimetype": "text/x-python",
   "name": "python",
   "nbconvert_exporter": "python",
   "pygments_lexer": "ipython3",
   "version": "3.10.12"
  }
 },
 "nbformat": 4,
 "nbformat_minor": 5
}
