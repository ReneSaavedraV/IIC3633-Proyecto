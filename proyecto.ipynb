{
 "cells": [
  {
   "cell_type": "markdown",
   "id": "babc507a",
   "metadata": {},
   "source": [
    "# Propuesta de Proyecto: Recomendación de Videojuegos en Amazon\n",
    "**IIC3633 Sistemas Recomendadores (2025-1)**  \n",
    "Integrantes: **Geraldine Coli Acevedo**, **Carlos Olguín**, **René Saavedra Vargas**.  "
   ]
  },
  {
   "cell_type": "markdown",
   "id": "38e790d9",
   "metadata": {},
   "source": [
    "## 1. Introducción\n",
    "\n",
    "El siguiente cuaderno presenta una propuesta de proyecto para el curso IIC3633 Sistemas Recomendadores. Se realiza un análisis exploratorio de datos sobre un conjunto de datos de ratings de Amazon (enfocado en Videojuegos). El conjunto de datos se obtiene a partir de [Amazon Review Data (2018)](https://cseweb.ucsd.edu/~jmcauley/datasets/amazon_v2/) de Jianmo Ni. En particular se utiliza el conjunto **\"Small\" subsets for experimentation: Video Games (Ratings only)** para obtener los ratings de los videojuegos, este archivo se puede descargar [aquí](https://mcauleylab.ucsd.edu/public_datasets/data/amazon_v2/categoryFilesSmall/Video_Games.csv). Y se utiliza Per-category data: Video Games (metadata) para obtener información adicional sobre los videojuegos (Nombre e ID), este archivo se puede descargar [aquí](https://mcauleylab.ucsd.edu/public_datasets/data/amazon_v2/metaFiles2/meta_Video_Games.json.gz).\n",
    "\n",
    "Cabe destacar que para utilizar el archivo de metadatos (meta_Video_Games.json.gz) se debe descomprimir el archivo y luego ejecutar el archivo **preprocessFiles.py**"
   ]
  },
  {
   "cell_type": "markdown",
   "id": "1080ee63",
   "metadata": {},
   "source": [
    "## 2. Pasos preliminares"
   ]
  },
  {
   "cell_type": "markdown",
   "id": "5b469ae4",
   "metadata": {},
   "source": [
    "### 2.1. Variables"
   ]
  },
  {
   "cell_type": "code",
   "execution_count": 1,
   "id": "9d576bc9",
   "metadata": {},
   "outputs": [],
   "source": [
    "TEST_SIZE = 0.2 \n",
    "DATASET_SIZE = 0.01\n",
    "RANDOM_STATE = 41"
   ]
  },
  {
   "cell_type": "markdown",
   "id": "494248d1",
   "metadata": {},
   "source": [
    "### 2.2. Instalación de dependencias\n"
   ]
  },
  {
   "cell_type": "code",
   "execution_count": 2,
   "id": "ad5e0a3a",
   "metadata": {},
   "outputs": [],
   "source": [
    "import pandas as pd\n",
    "import numpy as np\n",
    "import os\n",
    "import matplotlib.pyplot as plt\n",
    "import seaborn as sns\n",
    "from sklearn.model_selection import train_test_split\n",
    "from prettytable import PrettyTable\n"
   ]
  },
  {
   "cell_type": "markdown",
   "id": "4d3a6ec1",
   "metadata": {},
   "source": [
    "### 2.3. Cargar datos"
   ]
  },
  {
   "cell_type": "code",
   "execution_count": 3,
   "id": "b15143d8",
   "metadata": {},
   "outputs": [
    {
     "data": {
      "text/html": [
       "<div>\n",
       "<style scoped>\n",
       "    .dataframe tbody tr th:only-of-type {\n",
       "        vertical-align: middle;\n",
       "    }\n",
       "\n",
       "    .dataframe tbody tr th {\n",
       "        vertical-align: top;\n",
       "    }\n",
       "\n",
       "    .dataframe thead th {\n",
       "        text-align: right;\n",
       "    }\n",
       "</style>\n",
       "<table border=\"1\" class=\"dataframe\">\n",
       "  <thead>\n",
       "    <tr style=\"text-align: right;\">\n",
       "      <th></th>\n",
       "      <th>itemId</th>\n",
       "      <th>userId</th>\n",
       "      <th>rating</th>\n",
       "      <th>timestamp</th>\n",
       "    </tr>\n",
       "  </thead>\n",
       "  <tbody>\n",
       "    <tr>\n",
       "      <th>0</th>\n",
       "      <td>0439381673</td>\n",
       "      <td>A21ROB4YDOZA5P</td>\n",
       "      <td>1.0</td>\n",
       "      <td>1402272000</td>\n",
       "    </tr>\n",
       "    <tr>\n",
       "      <th>1</th>\n",
       "      <td>0439381673</td>\n",
       "      <td>A3TNZ2Q5E7HTHD</td>\n",
       "      <td>3.0</td>\n",
       "      <td>1399680000</td>\n",
       "    </tr>\n",
       "    <tr>\n",
       "      <th>2</th>\n",
       "      <td>0439381673</td>\n",
       "      <td>A1OKRM3QFEATQO</td>\n",
       "      <td>4.0</td>\n",
       "      <td>1391731200</td>\n",
       "    </tr>\n",
       "    <tr>\n",
       "      <th>3</th>\n",
       "      <td>0439381673</td>\n",
       "      <td>A2XO1JFCNEYV3T</td>\n",
       "      <td>1.0</td>\n",
       "      <td>1391731200</td>\n",
       "    </tr>\n",
       "    <tr>\n",
       "      <th>4</th>\n",
       "      <td>0439381673</td>\n",
       "      <td>A19WLPIRHD15TH</td>\n",
       "      <td>4.0</td>\n",
       "      <td>1389830400</td>\n",
       "    </tr>\n",
       "  </tbody>\n",
       "</table>\n",
       "</div>"
      ],
      "text/plain": [
       "       itemId          userId  rating   timestamp\n",
       "0  0439381673  A21ROB4YDOZA5P     1.0  1402272000\n",
       "1  0439381673  A3TNZ2Q5E7HTHD     3.0  1399680000\n",
       "2  0439381673  A1OKRM3QFEATQO     4.0  1391731200\n",
       "3  0439381673  A2XO1JFCNEYV3T     1.0  1391731200\n",
       "4  0439381673  A19WLPIRHD15TH     4.0  1389830400"
      ]
     },
     "execution_count": 3,
     "metadata": {},
     "output_type": "execute_result"
    }
   ],
   "source": [
    "ratings_df = pd.read_csv('videogame_ratings.csv')   # userId, itemId, rating, timestamp\n",
    "videogames_df = pd.read_csv('videogames.csv')       # itemId, name\n",
    "\n",
    "ratings_df.head()"
   ]
  },
  {
   "cell_type": "code",
   "execution_count": 4,
   "id": "ea16e619",
   "metadata": {},
   "outputs": [
    {
     "name": "stdout",
     "output_type": "stream",
     "text": [
      "ratings_df shape: (2565349, 4)\n",
      "videogames_df shape: (84819, 2)\n",
      "N° Usuarios: 1540618\n",
      "N° Videogames: 71982\n"
     ]
    }
   ],
   "source": [
    "print(f\"ratings_df shape: {ratings_df.shape}\")\n",
    "print(f\"videogames_df shape: {videogames_df.shape}\")\n",
    "print(f\"N° Usuarios: {ratings_df['userId'].nunique()}\")\n",
    "print(f\"N° Videogames: {ratings_df['itemId'].nunique()}\")"
   ]
  },
  {
   "cell_type": "markdown",
   "id": "58b1fa3f",
   "metadata": {},
   "source": [
    "### 2.4. Preprocesar datos"
   ]
  },
  {
   "cell_type": "code",
   "execution_count": 5,
   "id": "7ca03fb6",
   "metadata": {},
   "outputs": [
    {
     "name": "stdout",
     "output_type": "stream",
     "text": [
      "16154\n"
     ]
    }
   ],
   "source": [
    "print(videogames_df['name'].duplicated().sum())  "
   ]
  },
  {
   "cell_type": "markdown",
   "id": "b7f036df",
   "metadata": {},
   "source": [
    "Existen videojuegos que poseen más de 1 ID en Amazon, esto es debido a versiones/metadata distinta dentro de los ítemes/reviews. Por lo tanto, realizamos un preprocesamiento donde dejamos un solo ID por videojuego. (El primer ID encontrado) y lo reemplazamos en el dataset de reviews. Esto se hace para evitar duplicados y que el modelo no aprenda de más de un ID por videojuego. "
   ]
  },
  {
   "cell_type": "code",
   "execution_count": 6,
   "id": "c4153708",
   "metadata": {},
   "outputs": [],
   "source": [
    "# 1. Mapeo de nombres a IDs reales y de Ids a reales\n",
    "name_to_real_id = videogames_df.groupby('name')['itemId'].first()\n",
    "videogames_df['realId'] = videogames_df['name'].map(name_to_real_id)\n",
    "id_to_real = videogames_df.set_index('itemId')['realId'].to_dict()\n",
    "\n",
    "# 2. Reemplazamos itemId en ratings_df\n",
    "ratings_df['itemId'] = ratings_df['itemId'].map(id_to_real)\n",
    "videogames_df['itemId'] = videogames_df['realId']\n",
    "\n",
    "# 3. Limpiamos el DataFrame de videojuegos\n",
    "clean_videogames_df = (\n",
    "    videogames_df\n",
    "    .drop(columns=['realId'])\n",
    "    .drop_duplicates(subset='itemId')\n",
    "    .reset_index(drop=True)\n",
    ")\n",
    "\n",
    "videogames_df = clean_videogames_df\n"
   ]
  },
  {
   "cell_type": "code",
   "execution_count": 7,
   "id": "594772be",
   "metadata": {},
   "outputs": [
    {
     "name": "stdout",
     "output_type": "stream",
     "text": [
      "N° Videogames: 68662\n"
     ]
    }
   ],
   "source": [
    "print(f\"N° Videogames: {ratings_df['itemId'].nunique()}\")"
   ]
  },
  {
   "cell_type": "markdown",
   "id": "fceb5438",
   "metadata": {},
   "source": [
    "### 2.5. Particionar datos"
   ]
  },
  {
   "cell_type": "markdown",
   "id": "2a341ebe",
   "metadata": {},
   "source": [
    "Algo a destacar del dataset es lo siguiente:\n"
   ]
  },
  {
   "cell_type": "code",
   "execution_count": 8,
   "id": "58be65b4",
   "metadata": {},
   "outputs": [
    {
     "name": "stdout",
     "output_type": "stream",
     "text": [
      "Porcentaje de usuarios con una sola interacción: 73.18%\n"
     ]
    }
   ],
   "source": [
    "ratings_per_user = ratings_df.groupby(\"userId\").size()\n",
    "one_rating = round(ratings_per_user[ratings_per_user == 1].count()/len(ratings_per_user) * 100, 2) \n",
    "print(f\"Porcentaje de usuarios con una sola interacción: {one_rating}%\")"
   ]
  },
  {
   "cell_type": "markdown",
   "id": "a07cab3a",
   "metadata": {},
   "source": [
    "Más del 70% de los usuarios han realizado una solo review. Esto indica que tenemos un problema de _sparsity_ y _cold-start_ en el dataset. Dado esto, no podemos particionar los datos mantiendo usuarios en train y test, pero podemos asegurarnos que los videojuegos estén en ambos datasets. Por lo tanto, la partición se realiza de la siguiente manera:"
   ]
  },
  {
   "cell_type": "code",
   "execution_count": 9,
   "id": "b365ca12",
   "metadata": {},
   "outputs": [
    {
     "name": "stdout",
     "output_type": "stream",
     "text": [
      "Train: 20523 filas\n",
      "Validation: 5130 filas\n",
      "Real test size: 20.00%\n"
     ]
    }
   ],
   "source": [
    "df = ratings_df.sample(frac=DATASET_SIZE, random_state=RANDOM_STATE)\n",
    "\n",
    "# 1. Split inicial utilizando TEST_SIZE\n",
    "train_df, val_df = train_test_split(df, test_size=TEST_SIZE, random_state=RANDOM_STATE)\n",
    "\n",
    "# 2. Detectar cold-start en validación (no queremos ítemes que no estén en train)\n",
    "train_items = set(train_df['itemId'])\n",
    "cold_mask = ~val_df['itemId'].isin(train_items)\n",
    "\n",
    "# 3. Separar interacciones frías\n",
    "cold_df = val_df[cold_mask]\n",
    "val_df = val_df[~cold_mask]\n",
    "\n",
    "# 4. Reintegrar las frías al entrenamiento\n",
    "train_df = pd.concat([train_df, cold_df], ignore_index=True)\n",
    "\n",
    "# 5. Ajustar test al valor TEST_SIZE exacto: (Los pasos anteriores reducen el tamaño de val_df)\n",
    "desired_n_val = int(TEST_SIZE * len(df))\n",
    "current_n_val = len(val_df)\n",
    "n_needed = desired_n_val - current_n_val\n",
    "\n",
    "if n_needed > 0:\n",
    "    # Tomamos n_needed ejemplos adicionales desde train_df\n",
    "    extra_val = train_df.sample(n=n_needed, random_state=RANDOM_STATE)\n",
    "    \n",
    "    # Los quitamos de train y los añadimos a val\n",
    "    train_df = train_df.drop(extra_val.index).reset_index(drop=True)\n",
    "    val_df = pd.concat([val_df, extra_val], ignore_index=True)\n",
    "\n",
    "# 6. Comprobación de tamaños\n",
    "print(f\"Train: {train_df.shape[0]} filas\")\n",
    "print(f\"Validation: {val_df.shape[0]} filas\")\n",
    "print(f\"Real test size: {val_df.shape[0] / (train_df.shape[0] + val_df.shape[0]):.2%}\")"
   ]
  },
  {
   "cell_type": "markdown",
   "id": "fd7ce996",
   "metadata": {},
   "source": [
    "### 2.6. Estadísticas de los datos"
   ]
  },
  {
   "cell_type": "code",
   "execution_count": 10,
   "id": "7258981a",
   "metadata": {},
   "outputs": [],
   "source": [
    "def df_stats(df):\n",
    "    n_users = df['userId'].nunique()\n",
    "    n_items = df['itemId'].nunique()\n",
    "    total_ratings = len(df)\n",
    "    avg_rpu = round(total_ratings / n_users, 1)\n",
    "    avg_rpi = round(total_ratings / n_items, 1)\n",
    "    avg_rating = round(df['rating'].mean(), 1)\n",
    "    std_rating = round(df['rating'].std(), 1)\n",
    "    max_by_user = df.groupby('userId').size().max()\n",
    "    max_by_item = df.groupby('itemId').size().max()\n",
    "    return {\n",
    "        'Número de usuarios': n_users,\n",
    "        'Número de ítems': n_items,\n",
    "        'Cantidad total de ratings': total_ratings,\n",
    "        'Promedio de ratings por usuario': avg_rpu,\n",
    "        'Promedio de ratings por ítem': avg_rpi,\n",
    "        'Rating promedio': avg_rating,\n",
    "        'Desviación estándar del rating': std_rating,\n",
    "        'Máximo de ratings por usuario': max_by_user,\n",
    "        'Máximo de ratings por ítem': max_by_item,\n",
    "    }\n"
   ]
  },
  {
   "cell_type": "code",
   "execution_count": 11,
   "id": "c88693f6",
   "metadata": {},
   "outputs": [
    {
     "name": "stdout",
     "output_type": "stream",
     "text": [
      "+--------------------------------------------------------------+\n",
      "|       Tabla estadísticas de entrenamiento y validación       |\n",
      "+---------------------------------+---------------+------------+\n",
      "|             Métrica             | Entrenamiento | Validación |\n",
      "+---------------------------------+---------------+------------+\n",
      "|        Número de usuarios       |     20199     |    5108    |\n",
      "|         Número de ítems         |     10468     |    3003    |\n",
      "|    Cantidad total de ratings    |     20523     |    5130    |\n",
      "| Promedio de ratings por usuario |      1.0      |    1.0     |\n",
      "|   Promedio de ratings por ítem  |      2.0      |    1.7     |\n",
      "|         Rating promedio         |      4.0      |    4.0     |\n",
      "|  Desviación estándar del rating |      1.4      |    1.4     |\n",
      "|  Máximo de ratings por usuario  |       6       |     2      |\n",
      "|    Máximo de ratings por ítem   |       66      |     33     |\n",
      "+---------------------------------+---------------+------------+\n"
     ]
    }
   ],
   "source": [
    "stats_train = df_stats(train_df)\n",
    "stats_val   = df_stats(val_df)\n",
    "\n",
    "table = PrettyTable()\n",
    "table.title = \"Tabla estadísticas de entrenamiento y validación\"\n",
    "table.field_names = [\"Métrica\", \"Entrenamiento\", \"Validación\"]\n",
    "for metric in stats_train.keys():\n",
    "    table.add_row([metric, stats_train[metric], stats_val[metric]])\n",
    "print(table)\n"
   ]
  },
  {
   "cell_type": "markdown",
   "id": "7371909c",
   "metadata": {},
   "source": [
    "Realizamos gráficos para analizar los datos."
   ]
  },
  {
   "cell_type": "code",
   "execution_count": 12,
   "id": "40cdc052",
   "metadata": {},
   "outputs": [
    {
     "data": {
      "image/png": "[encoded data removed]",
      "text/plain": [
       "<Figure size 1000x500 with 1 Axes>"
      ]
     },
     "metadata": {},
     "output_type": "display_data"
    }
   ],
   "source": [
    "ratings_per_user = df.groupby(\"userId\").size()\n",
    "count_by_rating_count = ratings_per_user.value_counts().sort_index()\n",
    "\n",
    "plt.figure(figsize=(10, 5))\n",
    "sns.barplot(x=count_by_rating_count.index, y=count_by_rating_count.values, color='skyblue')\n",
    "plt.title(\"Cantidad de usuarios por cantidad de ratings hechos\")\n",
    "plt.xlabel(\"Cantidad de ratings hechos\")\n",
    "plt.ylabel(\"Cantidad de usuarios\")\n",
    "plt.tight_layout()\n",
    "plt.show()\n"
   ]
  },
  {
   "cell_type": "code",
   "execution_count": 13,
   "id": "e5a9b23f",
   "metadata": {},
   "outputs": [
    {
     "data": {
      "image/png": "[encoded data removed]",
      "text/plain": [
       "<Figure size 800x400 with 1 Axes>"
      ]
     },
     "metadata": {},
     "output_type": "display_data"
    }
   ],
   "source": [
    "plt.figure(figsize=(8, 4))\n",
    "sns.histplot(df[\"rating\"], bins=10, color='green')\n",
    "plt.title(\"Distribución de ratings\")\n",
    "plt.xlabel(\"Rating\")\n",
    "plt.ylabel(\"Frecuencia\")\n",
    "plt.tight_layout()\n",
    "plt.show()"
   ]
  },
  {
   "cell_type": "markdown",
   "id": "dc4e54d9",
   "metadata": {},
   "source": [
    "## 3. Modelos de prueba"
   ]
  },
  {
   "cell_type": "markdown",
   "id": "c23d73f5",
   "metadata": {},
   "source": [
    "Realizamos pruebas con diferentes modelos simples de referencia. Utilizamos una clase RecomendadorBase que se utiliza para crear los otros recomendadores."
   ]
  },
  {
   "cell_type": "code",
   "execution_count": 14,
   "id": "8c0b649f",
   "metadata": {},
   "outputs": [
    {
     "name": "stdout",
     "output_type": "stream",
     "text": [
      "Note: you may need to restart the kernel to use updated packages.\n"
     ]
    },
    {
     "name": "stderr",
     "output_type": "stream",
     "text": [
      "\n",
      "[notice] A new release of pip is available: 23.3 -> 25.1.1\n",
      "[notice] To update, run: C:\\Users\\René\\AppData\\Local\\Microsoft\\WindowsApps\\PythonSoftwareFoundation.Python.3.11_qbz5n2kfra8p0\\python.exe -m pip install --upgrade pip\n"
     ]
    }
   ],
   "source": [
    "%pip install -q surprise"
   ]
  },
  {
   "cell_type": "code",
   "execution_count": null,
   "id": "c5ab8f9a",
   "metadata": {},
   "outputs": [],
   "source": [
    "import numpy as np\n",
    "import pandas as pd\n",
    "from surprise import Dataset, Reader, KNNBasic, SVD\n",
    "\n",
    "class RecomendadorBase:\n",
    "    \"\"\"\n",
    "    Clase base para todos los recomendadores.\n",
    "    Formato a utilizar: userId, itemId, rating\n",
    "    \"\"\"\n",
    "    def fit(self, ratings: pd.DataFrame):\n",
    "        raise NotImplementedError\n",
    "\n",
    "    def recommend(self, user_id, n_items=10):\n",
    "        raise NotImplementedError\n",
    "\n",
    "class RecomendadorRandom(RecomendadorBase):\n",
    "    \"\"\"\n",
    "    Recomendador aleatorio.\n",
    "    \"\"\"\n",
    "    def fit(self, ratings: pd.DataFrame):\n",
    "        self.items = ratings['itemId'].unique()\n",
    "\n",
    "    def recommend(self, user_id, n_items=10):\n",
    "        return np.random.choice(self.items, size=n_items, replace=False).tolist()\n",
    "    \n",
    "    \n",
    "class RecomendadorPopular(RecomendadorBase):\n",
    "    \"\"\"\n",
    "    Recomendador basado en popularidad.\n",
    "    \"\"\"\n",
    "    def fit(self, ratings: pd.DataFrame):\n",
    "        self.popular_items = ratings.groupby('itemId').size().sort_values(ascending=False).index.tolist()\n",
    "\n",
    "    def recommend(self, user_id, n_items=10):\n",
    "        return self.popular_items[:n_items]\n",
    "\n",
    "class RecomendadorUserKNN(RecomendadorBase):\n",
    "    \"\"\"\n",
    "    Recomendador basado en usuarios utilizando la librería Surprise (KNNBasic). Código adaptado de https://github.com/PUC-RecSys-Class/RecSysPUC-2025-1/blob/master/practicos/01_uKNN_Surprise.ipynb\n",
    "    \"\"\"\n",
    "    def fit(self, ratings: pd.DataFrame, k=5, metric='cosine'):\n",
    "        reader = Reader(rating_scale=(ratings.rating.min(), ratings.rating.max()))\n",
    "        data = Dataset.load_from_df(ratings[['userId', 'itemId', 'rating']], reader)\n",
    "        trainset = data.build_full_trainset()\n",
    "        sim_options = {'name': metric, 'user_based': True}\n",
    "        self.algo = KNNBasic(k=k, sim_options=sim_options)\n",
    "        self.algo.fit(trainset)\n",
    "        self.trainset = trainset\n",
    "\n",
    "    def recommend(self, user_id, n_items=10):\n",
    "        try:\n",
    "            inner_uid = self.trainset.to_inner_uid(user_id)\n",
    "        except ValueError:\n",
    "            return []\n",
    "        \n",
    "        rated_inner = [iid for (iid, _) in self.trainset.ur[inner_uid]]\n",
    "        rated_raw = {self.trainset.to_raw_iid(iid) for iid in rated_inner}\n",
    "\n",
    "        all_inner = self.trainset.all_items()\n",
    "        raw_iids = [self.trainset.to_raw_iid(iid) for iid in all_inner]\n",
    "        \n",
    "        predictions = []\n",
    "        for iid in raw_iids:\n",
    "            if iid not in rated_raw:\n",
    "                pred = self.algo.predict(user_id, iid)\n",
    "                predictions.append((iid, pred.est))\n",
    "        predictions.sort(key=lambda x: x[1], reverse=True)\n",
    "        return [iid for iid, _ in predictions[:n_items]]\n",
    "\n",
    "class RecomendadorItemKNN(RecomendadorBase):\n",
    "    \"\"\"\n",
    "    Recomendador basado en ítems utilizando la librería Surprise (KNNBasic). Código adaptado de https://github.com/PUC-RecSys-Class/RecSysPUC-2025-1/blob/master/practicos/01_iKNN_Surprise.ipynb\n",
    "    \"\"\"\n",
    "    def fit(self, ratings: pd.DataFrame, k=5, metric='cosine'):\n",
    "        reader = Reader(rating_scale=(ratings.rating.min(), ratings.rating.max()))\n",
    "        data = Dataset.load_from_df(ratings[['userId', 'itemId', 'rating']], reader)\n",
    "        trainset = data.build_full_trainset()\n",
    "        sim_options = {'name': metric, 'user_based': False}\n",
    "        self.algo = KNNBasic(k=k, sim_options=sim_options)\n",
    "        self.algo.fit(trainset)\n",
    "        self.trainset = trainset\n",
    "\n",
    "    def recommend(self, user_id, n_items=10):\n",
    "        try:\n",
    "            inner_uid = self.trainset.to_inner_uid(user_id)\n",
    "        except ValueError:\n",
    "            return []\n",
    "        \n",
    "        rated_inner = [iid for (iid, _) in self.trainset.ur[inner_uid]]\n",
    "        rated_raw = {self.trainset.to_raw_iid(iid) for iid in rated_inner}\n",
    "        \n",
    "        all_inner = self.trainset.all_items()\n",
    "        raw_iids = [self.trainset.to_raw_iid(iid) for iid in all_inner]\n",
    "        \n",
    "        predictions = []\n",
    "        for iid in raw_iids:\n",
    "            if iid not in rated_raw:\n",
    "                pred = self.algo.predict(user_id, iid)\n",
    "                predictions.append((iid, pred.est))\n",
    "        predictions.sort(key=lambda x: x[1], reverse=True)\n",
    "        return [iid for iid, _ in predictions[:n_items]]\n",
    "\n",
    "class RecomendadorFunkSVD(RecomendadorBase):\n",
    "    \"\"\"\n",
    "    Recomendador basado en factorización de matrices utilizando Surprise SVD. Código adaptado de: https://github.com/PUC-RecSys-Class/RecSysPUC-2025-1/blob/master/practicos/02_extra_Surprise_FunkSVD.ipynb\n",
    "    \"\"\"\n",
    "    def __init__(self, n_factors=20, lr_all=0.005, reg_all=0.02, n_epochs=20):\n",
    "        self.n_factors = n_factors\n",
    "        self.lr_all = lr_all\n",
    "        self.reg_all = reg_all\n",
    "        self.n_epochs = n_epochs\n",
    "\n",
    "    def fit(self, ratings: pd.DataFrame):\n",
    "        reader = Reader(rating_scale=(ratings.rating.min(), ratings.rating.max()))\n",
    "        data = Dataset.load_from_df(ratings[['userId', 'itemId', 'rating']], reader)\n",
    "        trainset = data.build_full_trainset()\n",
    "        self.algo = SVD(n_factors=self.n_factors, lr_all=self.lr_all, reg_all=self.reg_all, n_epochs=self.n_epochs)\n",
    "        self.algo.fit(trainset)\n",
    "        self.trainset = trainset\n",
    "\n",
    "    def recommend(self, user_id, n_items=10):\n",
    "        try:\n",
    "            inner_uid = self.trainset.to_inner_uid(user_id)\n",
    "        except ValueError:\n",
    "            return []\n",
    "        rated_inner = [iid for (iid, _) in self.trainset.ur[inner_uid]]\n",
    "        rated_raw = {self.trainset.to_raw_iid(iid) for iid in rated_inner}\n",
    "        \n",
    "        all_inner = self.trainset.all_items()\n",
    "        raw_iids = [self.trainset.to_raw_iid(iid) for iid in all_inner]\n",
    "        \n",
    "        predictions = [(iid, self.algo.predict(user_id, iid).est) for iid in raw_iids if iid not in rated_raw]\n",
    "        predictions.sort(key=lambda x: x[1], reverse=True)\n",
    "        return [iid for iid, _ in predictions[:n_items]]\n",
    "\n"
   ]
  },
  {
   "cell_type": "code",
   "execution_count": 16,
   "id": "2c96ef16",
   "metadata": {},
   "outputs": [],
   "source": [
    "id_to_name = videogames_df.set_index('itemId')['name'].to_dict()\n",
    "def get_recommendations(recommender, user_id, n_items=10):\n",
    "    item_ids = recommender.recommend(user_id, n_items)\n",
    "    return [id_to_name[item_id] for item_id in item_ids]"
   ]
  },
  {
   "cell_type": "code",
   "execution_count": 17,
   "id": "e7861f98",
   "metadata": {},
   "outputs": [],
   "source": [
    "random_recommender = RecomendadorRandom()\n",
    "random_recommender.fit(train_df)"
   ]
  },
  {
   "cell_type": "code",
   "execution_count": 18,
   "id": "3f00b8d8",
   "metadata": {},
   "outputs": [
    {
     "name": "stdout",
     "output_type": "stream",
     "text": [
      "Computing the cosine similarity matrix...\n",
      "Done computing similarity matrix.\n"
     ]
    }
   ],
   "source": [
    "uknn_recommender = RecomendadorUserKNN()\n",
    "uknn_recommender.fit(train_df, k=5, metric='cosine')"
   ]
  },
  {
   "cell_type": "code",
   "execution_count": 19,
   "id": "5da816e2",
   "metadata": {},
   "outputs": [
    {
     "name": "stdout",
     "output_type": "stream",
     "text": [
      "Computing the cosine similarity matrix...\n",
      "Done computing similarity matrix.\n"
     ]
    }
   ],
   "source": [
    "iknn_recommender = RecomendadorItemKNN()\n",
    "iknn_recommender.fit(train_df, k=5, metric='cosine')"
   ]
  },
  {
   "cell_type": "code",
   "execution_count": 20,
   "id": "d0cbb204",
   "metadata": {},
   "outputs": [],
   "source": [
    "funk_svd_recommender = RecomendadorFunkSVD(n_factors=20, lr_all=0.005, reg_all=0.02, n_epochs=20)\n",
    "funk_svd_recommender.fit(train_df)"
   ]
  },
  {
   "cell_type": "code",
   "execution_count": null,
   "id": "c40db910",
   "metadata": {},
   "outputs": [],
   "source": [
    "# Evaluación de los recomendadores\n",
    "from time import time\n",
    "\n",
    "def evaluate_recommender(recommender, val_df, n_items=10):\n",
    "    \"\"\"\n",
    "    Evaluar un recomendador utilizando la métrica de precisión.\n",
    "    \"\"\"\n",
    "    hits = 0\n",
    "    total = 0\n",
    "\n",
    "    for user_id in val_df['userId'].unique():\n",
    "        recommended_items = recommender.recommend(user_id, n_items)\n",
    "        actual_items = val_df[val_df['userId'] == user_id]['itemId'].tolist()\n",
    "        hits += len(set(recommended_items) & set(actual_items))\n",
    "        total += len(recommended_items)\n",
    "\n",
    "    precision = hits / total if total > 0 else 0\n",
    "    return precision\n",
    "\n",
    "start_time = time()\n",
    "eval_results = {\n",
    "    'Random': evaluate_recommender(random_recommender, val_df),\n",
    "    'User KNN': evaluate_recommender(uknn_recommender, val_df),\n",
    "    'Item KNN': evaluate_recommender(iknn_recommender, val_df),\n",
    "    'Funk SVD': evaluate_recommender(funk_svd_recommender, val_df),\n",
    "}\n",
    "end_time = time()\n",
    "\n",
    "table = PrettyTable()\n",
    "table.title = \"Resultados de evaluación de recomendadores\"\n",
    "table.field_names = [\"Recomendador\", \"Precisión\"]\n",
    "for name, precision in eval_results.items():\n",
    "    table.add_row([name, f\"{precision:.2%}\"])\n",
    "print(table)\n",
    "\n",
    "\n",
    "print(f\"Resultados computados con {DATASET_SIZE*100}% del dataset y {TEST_SIZE*100}% de validación\")\n",
    "print(f\"Tiempo total de evaluación: {end_time - start_time:.2f} segundos\")"
   ]
  }
 ],
 "metadata": {
  "kernelspec": {
   "display_name": "Python 3",
   "language": "python",
   "name": "python3"
  },
  "language_info": {
   "codemirror_mode": {
    "name": "ipython",
    "version": 3
   },
   "file_extension": ".py",
   "mimetype": "text/x-python",
   "name": "python",
   "nbconvert_exporter": "python",
   "pygments_lexer": "ipython3",
   "version": "3.11.9"
  }
 },
 "nbformat": 4,
 "nbformat_minor": 5
}
