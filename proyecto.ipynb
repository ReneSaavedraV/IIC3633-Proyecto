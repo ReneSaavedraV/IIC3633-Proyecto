{
 "cells": [
  {
   "cell_type": "markdown",
   "id": "babc507a",
   "metadata": {},
   "source": [
    "# Propuesta de Proyecto: Recomendación de Videojuegos en Amazon\n",
    "**IIC3633 Sistemas Recomendadores (2025-1)**  \n",
    "Integrantes: **Geraldine Coli Acevedo**, **Carlos Olguín**, **René Saavedra Vargas**.  "
   ]
  },
  {
   "cell_type": "markdown",
   "id": "38e790d9",
   "metadata": {},
   "source": [
    "## 1. Introducción\n",
    "\n",
    "El siguiente cuaderno presenta una propuesta de proyecto para el curso IIC3633 Sistemas Recomendadores. Se realiza un análisis exploratorio de datos sobre un conjunto de datos de ratings de Amazon (enfocado en Videojuegos). El conjunto de datos se obtiene a partir de [Amazon Review Data (2023)](https://amazon-reviews-2023.github.io) de McAuley Lab. En particular se utiliza el conjunto **Video Games (Review, Metadata)** para obtener los ratings de los videojuegos y su información asociada.\n",
    "\n",
    "Para ejecutar este cuaderno, es necesario descargar los archivos y descomprimirlos en la carpeta `data/`."
   ]
  },
  {
   "cell_type": "markdown",
   "id": "1080ee63",
   "metadata": {},
   "source": [
    "## 2. Pasos preliminares"
   ]
  },
  {
   "cell_type": "markdown",
   "id": "5b469ae4",
   "metadata": {},
   "source": [
    "### 2.1. Variables"
   ]
  },
  {
   "cell_type": "code",
   "execution_count": 77,
   "id": "9d576bc9",
   "metadata": {},
   "outputs": [],
   "source": [
    "TEST_SIZE = 0.1\n",
    "DATASET_SIZE = 0.01\n",
    "RANDOM_STATE = 42"
   ]
  },
  {
   "cell_type": "markdown",
   "id": "494248d1",
   "metadata": {},
   "source": [
    "### 2.2. Instalación de dependencias\n"
   ]
  },
  {
   "cell_type": "code",
   "execution_count": 48,
   "id": "ad5e0a3a",
   "metadata": {},
   "outputs": [],
   "source": [
    "import pandas as pd\n",
    "import numpy as np\n",
    "import os\n",
    "import matplotlib.pyplot as plt\n",
    "import seaborn as sns\n",
    "from sklearn.model_selection import train_test_split\n",
    "from prettytable import PrettyTable\n"
   ]
  },
  {
   "cell_type": "markdown",
   "id": "4d3a6ec1",
   "metadata": {},
   "source": [
    "### 2.3. Cargar datos"
   ]
  },
  {
   "cell_type": "code",
   "execution_count": 99,
   "id": "b15143d8",
   "metadata": {},
   "outputs": [
    {
     "ename": "KeyboardInterrupt",
     "evalue": "",
     "output_type": "error",
     "traceback": [
      "\u001b[1;31m---------------------------------------------------------------------------\u001b[0m",
      "\u001b[1;31mKeyboardInterrupt\u001b[0m                         Traceback (most recent call last)",
      "\u001b[1;32m~\\AppData\\Local\\Temp\\ipykernel_19612\\3006160451.py\u001b[0m in \u001b[0;36m?\u001b[1;34m()\u001b[0m\n\u001b[0;32m      1\u001b[0m \u001b[0mmetadata_path\u001b[0m   \u001b[1;33m=\u001b[0m \u001b[0mos\u001b[0m\u001b[1;33m.\u001b[0m\u001b[0mpath\u001b[0m\u001b[1;33m.\u001b[0m\u001b[0mjoin\u001b[0m\u001b[1;33m(\u001b[0m\u001b[1;34m'newproject'\u001b[0m\u001b[1;33m,\u001b[0m \u001b[1;34m'meta_Video_Games.jsonl'\u001b[0m\u001b[1;33m)\u001b[0m\u001b[1;33m\u001b[0m\u001b[1;33m\u001b[0m\u001b[0m\n\u001b[0;32m      2\u001b[0m \u001b[0mvideo_games_path\u001b[0m \u001b[1;33m=\u001b[0m \u001b[0mos\u001b[0m\u001b[1;33m.\u001b[0m\u001b[0mpath\u001b[0m\u001b[1;33m.\u001b[0m\u001b[0mjoin\u001b[0m\u001b[1;33m(\u001b[0m\u001b[1;34m'newproject'\u001b[0m\u001b[1;33m,\u001b[0m \u001b[1;34m'Video_Games.jsonl'\u001b[0m\u001b[1;33m)\u001b[0m\u001b[1;33m\u001b[0m\u001b[1;33m\u001b[0m\u001b[0m\n\u001b[0;32m      3\u001b[0m \u001b[1;33m\u001b[0m\u001b[0m\n\u001b[0;32m      4\u001b[0m \u001b[0mmetadata_df\u001b[0m    \u001b[1;33m=\u001b[0m \u001b[0mpd\u001b[0m\u001b[1;33m.\u001b[0m\u001b[0mread_json\u001b[0m\u001b[1;33m(\u001b[0m\u001b[0mmetadata_path\u001b[0m\u001b[1;33m,\u001b[0m \u001b[0mlines\u001b[0m\u001b[1;33m=\u001b[0m\u001b[1;32mTrue\u001b[0m\u001b[1;33m)\u001b[0m\u001b[1;33m\u001b[0m\u001b[1;33m\u001b[0m\u001b[0m\n\u001b[1;32m----> 5\u001b[1;33m \u001b[0mvideo_games_df\u001b[0m \u001b[1;33m=\u001b[0m \u001b[0mpd\u001b[0m\u001b[1;33m.\u001b[0m\u001b[0mread_json\u001b[0m\u001b[1;33m(\u001b[0m\u001b[0mvideo_games_path\u001b[0m\u001b[1;33m,\u001b[0m \u001b[0mlines\u001b[0m\u001b[1;33m=\u001b[0m\u001b[1;32mTrue\u001b[0m\u001b[1;33m)\u001b[0m\u001b[1;33m\u001b[0m\u001b[1;33m\u001b[0m\u001b[0m\n\u001b[0m\u001b[0;32m      6\u001b[0m \u001b[1;33m\u001b[0m\u001b[0m\n\u001b[0;32m      7\u001b[0m \u001b[0mprint\u001b[0m\u001b[1;33m(\u001b[0m\u001b[0mmetadata_df\u001b[0m\u001b[1;33m.\u001b[0m\u001b[0mshape\u001b[0m\u001b[1;33m,\u001b[0m \u001b[0mmetadata_df\u001b[0m\u001b[1;33m.\u001b[0m\u001b[0mcolumns\u001b[0m\u001b[1;33m)\u001b[0m\u001b[1;33m\u001b[0m\u001b[1;33m\u001b[0m\u001b[0m\n\u001b[0;32m      8\u001b[0m \u001b[0mprint\u001b[0m\u001b[1;33m(\u001b[0m\u001b[0mvideo_games_df\u001b[0m\u001b[1;33m.\u001b[0m\u001b[0mshape\u001b[0m\u001b[1;33m,\u001b[0m \u001b[0mvideo_games_df\u001b[0m\u001b[1;33m.\u001b[0m\u001b[0mcolumns\u001b[0m\u001b[1;33m)\u001b[0m\u001b[1;33m\u001b[0m\u001b[1;33m\u001b[0m\u001b[0m\n",
      "\u001b[1;32m~\\AppData\\Local\\Packages\\PythonSoftwareFoundation.Python.3.11_qbz5n2kfra8p0\\LocalCache\\local-packages\\Python311\\site-packages\\pandas\\io\\json\\_json.py\u001b[0m in \u001b[0;36m?\u001b[1;34m(path_or_buf, orient, typ, dtype, convert_axes, convert_dates, keep_default_dates, precise_float, date_unit, encoding, encoding_errors, lines, chunksize, compression, nrows, storage_options, dtype_backend, engine)\u001b[0m\n\u001b[0;32m    811\u001b[0m \u001b[1;33m\u001b[0m\u001b[0m\n\u001b[0;32m    812\u001b[0m     \u001b[1;32mif\u001b[0m \u001b[0mchunksize\u001b[0m\u001b[1;33m:\u001b[0m\u001b[1;33m\u001b[0m\u001b[1;33m\u001b[0m\u001b[0m\n\u001b[0;32m    813\u001b[0m         \u001b[1;32mreturn\u001b[0m \u001b[0mjson_reader\u001b[0m\u001b[1;33m\u001b[0m\u001b[1;33m\u001b[0m\u001b[0m\n\u001b[0;32m    814\u001b[0m     \u001b[1;32melse\u001b[0m\u001b[1;33m:\u001b[0m\u001b[1;33m\u001b[0m\u001b[1;33m\u001b[0m\u001b[0m\n\u001b[1;32m--> 815\u001b[1;33m         \u001b[1;32mreturn\u001b[0m \u001b[0mjson_reader\u001b[0m\u001b[1;33m.\u001b[0m\u001b[0mread\u001b[0m\u001b[1;33m(\u001b[0m\u001b[1;33m)\u001b[0m\u001b[1;33m\u001b[0m\u001b[1;33m\u001b[0m\u001b[0m\n\u001b[0m",
      "\u001b[1;32m~\\AppData\\Local\\Packages\\PythonSoftwareFoundation.Python.3.11_qbz5n2kfra8p0\\LocalCache\\local-packages\\Python311\\site-packages\\pandas\\io\\json\\_json.py\u001b[0m in \u001b[0;36m?\u001b[1;34m(self)\u001b[0m\n\u001b[0;32m   1019\u001b[0m                         \u001b[0mobj\u001b[0m \u001b[1;33m=\u001b[0m \u001b[0mself\u001b[0m\u001b[1;33m.\u001b[0m\u001b[0m_get_object_parser\u001b[0m\u001b[1;33m(\u001b[0m\u001b[0mlines_json\u001b[0m\u001b[1;33m)\u001b[0m\u001b[1;33m\u001b[0m\u001b[1;33m\u001b[0m\u001b[0m\n\u001b[0;32m   1020\u001b[0m                     \u001b[1;32melse\u001b[0m\u001b[1;33m:\u001b[0m\u001b[1;33m\u001b[0m\u001b[1;33m\u001b[0m\u001b[0m\n\u001b[0;32m   1021\u001b[0m                         \u001b[0mdata\u001b[0m \u001b[1;33m=\u001b[0m \u001b[0mensure_str\u001b[0m\u001b[1;33m(\u001b[0m\u001b[0mself\u001b[0m\u001b[1;33m.\u001b[0m\u001b[0mdata\u001b[0m\u001b[1;33m)\u001b[0m\u001b[1;33m\u001b[0m\u001b[1;33m\u001b[0m\u001b[0m\n\u001b[0;32m   1022\u001b[0m                         \u001b[0mdata_lines\u001b[0m \u001b[1;33m=\u001b[0m \u001b[0mdata\u001b[0m\u001b[1;33m.\u001b[0m\u001b[0msplit\u001b[0m\u001b[1;33m(\u001b[0m\u001b[1;34m\"\\n\"\u001b[0m\u001b[1;33m)\u001b[0m\u001b[1;33m\u001b[0m\u001b[1;33m\u001b[0m\u001b[0m\n\u001b[1;32m-> 1023\u001b[1;33m                         \u001b[0mobj\u001b[0m \u001b[1;33m=\u001b[0m \u001b[0mself\u001b[0m\u001b[1;33m.\u001b[0m\u001b[0m_get_object_parser\u001b[0m\u001b[1;33m(\u001b[0m\u001b[0mself\u001b[0m\u001b[1;33m.\u001b[0m\u001b[0m_combine_lines\u001b[0m\u001b[1;33m(\u001b[0m\u001b[0mdata_lines\u001b[0m\u001b[1;33m)\u001b[0m\u001b[1;33m)\u001b[0m\u001b[1;33m\u001b[0m\u001b[1;33m\u001b[0m\u001b[0m\n\u001b[0m\u001b[0;32m   1024\u001b[0m                 \u001b[1;32melse\u001b[0m\u001b[1;33m:\u001b[0m\u001b[1;33m\u001b[0m\u001b[1;33m\u001b[0m\u001b[0m\n\u001b[0;32m   1025\u001b[0m                     \u001b[0mobj\u001b[0m \u001b[1;33m=\u001b[0m \u001b[0mself\u001b[0m\u001b[1;33m.\u001b[0m\u001b[0m_get_object_parser\u001b[0m\u001b[1;33m(\u001b[0m\u001b[0mself\u001b[0m\u001b[1;33m.\u001b[0m\u001b[0mdata\u001b[0m\u001b[1;33m)\u001b[0m\u001b[1;33m\u001b[0m\u001b[1;33m\u001b[0m\u001b[0m\n\u001b[0;32m   1026\u001b[0m                 \u001b[1;32mif\u001b[0m \u001b[0mself\u001b[0m\u001b[1;33m.\u001b[0m\u001b[0mdtype_backend\u001b[0m \u001b[1;32mis\u001b[0m \u001b[1;32mnot\u001b[0m \u001b[0mlib\u001b[0m\u001b[1;33m.\u001b[0m\u001b[0mno_default\u001b[0m\u001b[1;33m:\u001b[0m\u001b[1;33m\u001b[0m\u001b[1;33m\u001b[0m\u001b[0m\n",
      "\u001b[1;32m~\\AppData\\Local\\Packages\\PythonSoftwareFoundation.Python.3.11_qbz5n2kfra8p0\\LocalCache\\local-packages\\Python311\\site-packages\\pandas\\io\\json\\_json.py\u001b[0m in \u001b[0;36m?\u001b[1;34m(self, json)\u001b[0m\n\u001b[0;32m   1047\u001b[0m             \u001b[1;34m\"dtype_backend\"\u001b[0m\u001b[1;33m:\u001b[0m \u001b[0mself\u001b[0m\u001b[1;33m.\u001b[0m\u001b[0mdtype_backend\u001b[0m\u001b[1;33m,\u001b[0m\u001b[1;33m\u001b[0m\u001b[1;33m\u001b[0m\u001b[0m\n\u001b[0;32m   1048\u001b[0m         }\n\u001b[0;32m   1049\u001b[0m         \u001b[0mobj\u001b[0m \u001b[1;33m=\u001b[0m \u001b[1;32mNone\u001b[0m\u001b[1;33m\u001b[0m\u001b[1;33m\u001b[0m\u001b[0m\n\u001b[0;32m   1050\u001b[0m         \u001b[1;32mif\u001b[0m \u001b[0mtyp\u001b[0m \u001b[1;33m==\u001b[0m \u001b[1;34m\"frame\"\u001b[0m\u001b[1;33m:\u001b[0m\u001b[1;33m\u001b[0m\u001b[1;33m\u001b[0m\u001b[0m\n\u001b[1;32m-> 1051\u001b[1;33m             \u001b[0mobj\u001b[0m \u001b[1;33m=\u001b[0m \u001b[0mFrameParser\u001b[0m\u001b[1;33m(\u001b[0m\u001b[0mjson\u001b[0m\u001b[1;33m,\u001b[0m \u001b[1;33m**\u001b[0m\u001b[0mkwargs\u001b[0m\u001b[1;33m)\u001b[0m\u001b[1;33m.\u001b[0m\u001b[0mparse\u001b[0m\u001b[1;33m(\u001b[0m\u001b[1;33m)\u001b[0m\u001b[1;33m\u001b[0m\u001b[1;33m\u001b[0m\u001b[0m\n\u001b[0m\u001b[0;32m   1052\u001b[0m \u001b[1;33m\u001b[0m\u001b[0m\n\u001b[0;32m   1053\u001b[0m         \u001b[1;32mif\u001b[0m \u001b[0mtyp\u001b[0m \u001b[1;33m==\u001b[0m \u001b[1;34m\"series\"\u001b[0m \u001b[1;32mor\u001b[0m \u001b[0mobj\u001b[0m \u001b[1;32mis\u001b[0m \u001b[1;32mNone\u001b[0m\u001b[1;33m:\u001b[0m\u001b[1;33m\u001b[0m\u001b[1;33m\u001b[0m\u001b[0m\n\u001b[0;32m   1054\u001b[0m             \u001b[1;32mif\u001b[0m \u001b[1;32mnot\u001b[0m \u001b[0misinstance\u001b[0m\u001b[1;33m(\u001b[0m\u001b[0mdtype\u001b[0m\u001b[1;33m,\u001b[0m \u001b[0mbool\u001b[0m\u001b[1;33m)\u001b[0m\u001b[1;33m:\u001b[0m\u001b[1;33m\u001b[0m\u001b[1;33m\u001b[0m\u001b[0m\n",
      "\u001b[1;32m~\\AppData\\Local\\Packages\\PythonSoftwareFoundation.Python.3.11_qbz5n2kfra8p0\\LocalCache\\local-packages\\Python311\\site-packages\\pandas\\io\\json\\_json.py\u001b[0m in \u001b[0;36m?\u001b[1;34m(self)\u001b[0m\n\u001b[0;32m   1185\u001b[0m     \u001b[1;33m@\u001b[0m\u001b[0mfinal\u001b[0m\u001b[1;33m\u001b[0m\u001b[1;33m\u001b[0m\u001b[0m\n\u001b[0;32m   1186\u001b[0m     \u001b[1;32mdef\u001b[0m \u001b[0mparse\u001b[0m\u001b[1;33m(\u001b[0m\u001b[0mself\u001b[0m\u001b[1;33m)\u001b[0m\u001b[1;33m:\u001b[0m\u001b[1;33m\u001b[0m\u001b[1;33m\u001b[0m\u001b[0m\n\u001b[1;32m-> 1187\u001b[1;33m         \u001b[0mself\u001b[0m\u001b[1;33m.\u001b[0m\u001b[0m_parse\u001b[0m\u001b[1;33m(\u001b[0m\u001b[1;33m)\u001b[0m\u001b[1;33m\u001b[0m\u001b[1;33m\u001b[0m\u001b[0m\n\u001b[0m\u001b[0;32m   1188\u001b[0m \u001b[1;33m\u001b[0m\u001b[0m\n\u001b[0;32m   1189\u001b[0m         \u001b[1;32mif\u001b[0m \u001b[0mself\u001b[0m\u001b[1;33m.\u001b[0m\u001b[0mobj\u001b[0m \u001b[1;32mis\u001b[0m \u001b[1;32mNone\u001b[0m\u001b[1;33m:\u001b[0m\u001b[1;33m\u001b[0m\u001b[1;33m\u001b[0m\u001b[0m\n\u001b[0;32m   1190\u001b[0m             \u001b[1;32mreturn\u001b[0m \u001b[1;32mNone\u001b[0m\u001b[1;33m\u001b[0m\u001b[1;33m\u001b[0m\u001b[0m\n",
      "\u001b[1;32m~\\AppData\\Local\\Packages\\PythonSoftwareFoundation.Python.3.11_qbz5n2kfra8p0\\LocalCache\\local-packages\\Python311\\site-packages\\pandas\\io\\json\\_json.py\u001b[0m in \u001b[0;36m?\u001b[1;34m(self)\u001b[0m\n\u001b[0;32m   1398\u001b[0m         \u001b[0mjson\u001b[0m \u001b[1;33m=\u001b[0m \u001b[0mself\u001b[0m\u001b[1;33m.\u001b[0m\u001b[0mjson\u001b[0m\u001b[1;33m\u001b[0m\u001b[1;33m\u001b[0m\u001b[0m\n\u001b[0;32m   1399\u001b[0m         \u001b[0morient\u001b[0m \u001b[1;33m=\u001b[0m \u001b[0mself\u001b[0m\u001b[1;33m.\u001b[0m\u001b[0morient\u001b[0m\u001b[1;33m\u001b[0m\u001b[1;33m\u001b[0m\u001b[0m\n\u001b[0;32m   1400\u001b[0m \u001b[1;33m\u001b[0m\u001b[0m\n\u001b[0;32m   1401\u001b[0m         \u001b[1;32mif\u001b[0m \u001b[0morient\u001b[0m \u001b[1;33m==\u001b[0m \u001b[1;34m\"columns\"\u001b[0m\u001b[1;33m:\u001b[0m\u001b[1;33m\u001b[0m\u001b[1;33m\u001b[0m\u001b[0m\n\u001b[1;32m-> 1402\u001b[1;33m             self.obj = DataFrame(\n\u001b[0m\u001b[0;32m   1403\u001b[0m                 \u001b[0mujson_loads\u001b[0m\u001b[1;33m(\u001b[0m\u001b[0mjson\u001b[0m\u001b[1;33m,\u001b[0m \u001b[0mprecise_float\u001b[0m\u001b[1;33m=\u001b[0m\u001b[0mself\u001b[0m\u001b[1;33m.\u001b[0m\u001b[0mprecise_float\u001b[0m\u001b[1;33m)\u001b[0m\u001b[1;33m,\u001b[0m \u001b[0mdtype\u001b[0m\u001b[1;33m=\u001b[0m\u001b[1;32mNone\u001b[0m\u001b[1;33m\u001b[0m\u001b[1;33m\u001b[0m\u001b[0m\n\u001b[0;32m   1404\u001b[0m             )\n\u001b[0;32m   1405\u001b[0m         \u001b[1;32melif\u001b[0m \u001b[0morient\u001b[0m \u001b[1;33m==\u001b[0m \u001b[1;34m\"split\"\u001b[0m\u001b[1;33m:\u001b[0m\u001b[1;33m\u001b[0m\u001b[1;33m\u001b[0m\u001b[0m\n",
      "\u001b[1;32m~\\AppData\\Local\\Packages\\PythonSoftwareFoundation.Python.3.11_qbz5n2kfra8p0\\LocalCache\\local-packages\\Python311\\site-packages\\pandas\\core\\frame.py\u001b[0m in \u001b[0;36m?\u001b[1;34m(self, data, index, columns, dtype, copy)\u001b[0m\n\u001b[1;32m--> 694\u001b[1;33m     def __init__(\n\u001b[0m\u001b[0;32m    695\u001b[0m         \u001b[0mself\u001b[0m\u001b[1;33m,\u001b[0m\u001b[1;33m\u001b[0m\u001b[1;33m\u001b[0m\u001b[0m\n\u001b[0;32m    696\u001b[0m         \u001b[0mdata\u001b[0m\u001b[1;33m=\u001b[0m\u001b[1;32mNone\u001b[0m\u001b[1;33m,\u001b[0m\u001b[1;33m\u001b[0m\u001b[1;33m\u001b[0m\u001b[0m\n\u001b[0;32m    697\u001b[0m         \u001b[0mindex\u001b[0m\u001b[1;33m:\u001b[0m \u001b[0mAxes\u001b[0m \u001b[1;33m|\u001b[0m \u001b[1;32mNone\u001b[0m \u001b[1;33m=\u001b[0m \u001b[1;32mNone\u001b[0m\u001b[1;33m,\u001b[0m\u001b[1;33m\u001b[0m\u001b[1;33m\u001b[0m\u001b[0m\n",
      "\u001b[1;31mKeyboardInterrupt\u001b[0m: "
     ]
    }
   ],
   "source": [
    "metadata_path   = os.path.join('newproject', 'meta_Video_Games.jsonl')\n",
    "video_games_path = os.path.join('newproject', 'Video_Games.jsonl')\n",
    "\n",
    "metadata_df    = pd.read_json(metadata_path, lines=True)\n",
    "video_games_df = pd.read_json(video_games_path, lines=True)\n",
    "\n",
    "print(metadata_df.shape, metadata_df.columns)\n",
    "print(video_games_df.shape, video_games_df.columns)"
   ]
  },
  {
   "cell_type": "code",
   "execution_count": 50,
   "id": "ea16e619",
   "metadata": {},
   "outputs": [],
   "source": [
    "df = video_games_df.sample(frac=DATASET_SIZE, random_state=RANDOM_STATE).reset_index(drop=True)"
   ]
  },
  {
   "cell_type": "markdown",
   "id": "58b1fa3f",
   "metadata": {},
   "source": [
    "### 2.4. Preprocesar datos"
   ]
  },
  {
   "cell_type": "code",
   "execution_count": 80,
   "id": "7ca03fb6",
   "metadata": {},
   "outputs": [],
   "source": [
    "df['timestamp'] = pd.to_datetime(df['timestamp'])\n",
    "df = df.sort_values('timestamp').reset_index(drop=True)\n",
    "\n",
    "train_df, test_df = train_test_split(df, test_size=TEST_SIZE, random_state=RANDOM_STATE)\n"
   ]
  },
  {
   "cell_type": "code",
   "execution_count": 55,
   "id": "7258981a",
   "metadata": {},
   "outputs": [],
   "source": [
    "def df_stats(interactions_df, metadata_df):\n",
    "    # ————— Estadísticas de interacciones —————\n",
    "    n_users = interactions_df['user_id'].nunique()\n",
    "    n_items = interactions_df['asin'].nunique()\n",
    "    total_ratings = len(interactions_df)\n",
    "    avg_rpu = round(total_ratings / n_users, 1) if n_users > 0 else 0.0\n",
    "    avg_rpi = round(total_ratings / n_items, 1) if n_items > 0 else 0.0\n",
    "    avg_rating = round(interactions_df['rating'].mean(), 1) if total_ratings > 0 else 0.0\n",
    "    std_rating = round(interactions_df['rating'].std(), 1) if total_ratings > 1 else 0.0\n",
    "\n",
    "    if total_ratings > 0:\n",
    "        max_by_user = int(interactions_df.groupby('user_id').size().max())\n",
    "        max_by_item = int(interactions_df.groupby('asin').size().max())\n",
    "    else:\n",
    "        max_by_user = 0\n",
    "        max_by_item = 0\n",
    "\n",
    "    # ————— Estadísticas de descripciones —————\n",
    "    # Obtener los parent_asin que están en las interacciones\n",
    "    relevant_asins = interactions_df['asin'].unique()\n",
    "    filtered_metadata = metadata_df[metadata_df['parent_asin'].isin(relevant_asins)].copy()\n",
    "\n",
    "    # Normalizar las descripciones\n",
    "    def normalize_desc(x):\n",
    "        if isinstance(x, list):\n",
    "            return ' '.join([str(fragment) for fragment in x if fragment])\n",
    "        elif isinstance(x, str):\n",
    "            return x\n",
    "        else:\n",
    "            return ''\n",
    "\n",
    "    desc_series = filtered_metadata['description'].apply(normalize_desc)\n",
    "    desc_word_counts = desc_series.apply(lambda txt: len(txt.split()) if txt.strip() else 0)\n",
    "\n",
    "    n_items_with_desc = int((desc_word_counts > 0).sum())\n",
    "    n_items_without_desc = int((desc_word_counts == 0).sum())\n",
    "\n",
    "    if n_items_with_desc > 0:\n",
    "        min_len = int(desc_word_counts[desc_word_counts > 0].min())\n",
    "        max_len = int(desc_word_counts.max())\n",
    "        mean_len = round(desc_word_counts[desc_word_counts > 0].mean(), 1)\n",
    "        std_len = round(desc_word_counts[desc_word_counts > 0].std(), 1)\n",
    "    else:\n",
    "        min_len = 0\n",
    "        max_len = 0\n",
    "        mean_len = 0.0\n",
    "        std_len = 0.0\n",
    "\n",
    "    return {\n",
    "        # — Estadísticas de interacciones —\n",
    "        'Número de usuarios'                  : n_users,\n",
    "        'Número de ítems'                    : n_items,\n",
    "        'Cantidad total de ratings'          : total_ratings,\n",
    "        'Promedio de ratings por usuario'     : avg_rpu,\n",
    "        'Promedio de ratings por ítem'       : avg_rpi,\n",
    "        'Rating promedio'                    : avg_rating,\n",
    "        'Desviación estándar del rating'     : std_rating,\n",
    "        'Máximo de ratings por usuario'      : max_by_user,\n",
    "        'Máximo de ratings por ítem'         : max_by_item,\n",
    "\n",
    "        # — Estadísticas de descripciones —\n",
    "        'Número de ítems sin descripción'    : n_items_without_desc,\n",
    "        'Número de ítems con descripción'    : n_items_with_desc,\n",
    "        'Longitud mínima de descripción'     : min_len,\n",
    "        'Longitud máxima de descripción'     : max_len,\n",
    "        'Longitud promedio de descripción'   : mean_len,\n",
    "        'Desviación estándar longitud descr' : std_len,\n",
    "    }\n"
   ]
  },
  {
   "cell_type": "code",
   "execution_count": 56,
   "id": "c88693f6",
   "metadata": {},
   "outputs": [
    {
     "name": "stdout",
     "output_type": "stream",
     "text": [
      "+------------------------------------+--------+-------+\n",
      "|            Estadística             | Train  |  Test |\n",
      "+------------------------------------+--------+-------+\n",
      "|         Número de usuarios         | 174637 | 45465 |\n",
      "|          Número de ítems           | 48179  | 21388 |\n",
      "|     Cantidad total de ratings      | 184984 | 46247 |\n",
      "|  Promedio de ratings por usuario   |  1.1   |  1.0  |\n",
      "|    Promedio de ratings por ítem    |  3.8   |  2.2  |\n",
      "|          Rating promedio           |  4.0   |  4.0  |\n",
      "|   Desviación estándar del rating   |  1.4   |  1.4  |\n",
      "|   Máximo de ratings por usuario    |   28   |   7   |\n",
      "|     Máximo de ratings por ítem     |  786   |  186  |\n",
      "|  Número de ítems sin descripción   | 10605  |  4237 |\n",
      "|  Número de ítems con descripción   | 20206  |  8515 |\n",
      "|   Longitud mínima de descripción   |   1    |   1   |\n",
      "|   Longitud máxima de descripción   | 15942  |  4260 |\n",
      "|  Longitud promedio de descripción  | 185.2  | 203.9 |\n",
      "| Desviación estándar longitud descr | 325.1  | 303.4 |\n",
      "+------------------------------------+--------+-------+\n"
     ]
    }
   ],
   "source": [
    "stats_train = df_stats(train_df, metadata_df)\n",
    "stats_test = df_stats(test_df, metadata_df)\n",
    "\n",
    "table = PrettyTable()\n",
    "table.field_names = [\"Estadística\", \"Train\", \"Test\"]\n",
    "for key in stats_train.keys():\n",
    "    table.add_row([key, stats_train[key], stats_test[key]])\n",
    "\n",
    "print(table)\n"
   ]
  },
  {
   "cell_type": "markdown",
   "id": "7371909c",
   "metadata": {},
   "source": [
    "Realizamos gráficos para analizar los datos."
   ]
  },
  {
   "cell_type": "markdown",
   "id": "3765b00e",
   "metadata": {},
   "source": [
    "#### 2.5. Analisis de datos"
   ]
  },
  {
   "cell_type": "code",
   "execution_count": null,
   "id": "55500884",
   "metadata": {},
   "outputs": [
    {
     "data": {
      "image/png": "[encoded data removed]",
      "text/plain": [
       "<Figure size 640x480 with 1 Axes>"
      ]
     },
     "metadata": {},
     "output_type": "display_data"
    },
    {
     "data": {
      "image/png": "[encoded data removed]",
      "text/plain": [
       "<Figure size 640x480 with 1 Axes>"
      ]
     },
     "metadata": {},
     "output_type": "display_data"
    },
    {
     "data": {
      "image/png": "[encoded data removed]",
      "text/plain": [
       "<Figure size 640x480 with 1 Axes>"
      ]
     },
     "metadata": {},
     "output_type": "display_data"
    },
    {
     "data": {
      "image/png": "[encoded data removed]",
      "text/plain": [
       "<Figure size 1000x400 with 1 Axes>"
      ]
     },
     "metadata": {},
     "output_type": "display_data"
    }
   ],
   "source": [
    "import matplotlib.pyplot as plt\n",
    "import numpy as np\n",
    "\n",
    "# 1. Histograma de distribución de ratings\n",
    "plt.figure()\n",
    "df['rating'].hist(bins=20)\n",
    "plt.xlabel('Rating')\n",
    "plt.ylabel('Conteo')\n",
    "plt.title('Distribución de Ratings')\n",
    "plt.tight_layout()\n",
    "\n",
    "# 2. Histograma de número de ratings por usuario (escala logarítmica)\n",
    "user_counts = df.groupby('user_id').size()\n",
    "plt.figure()\n",
    "user_counts.hist(bins=50, log=True)\n",
    "plt.xlabel('Número de ratings por usuario')\n",
    "plt.ylabel('Cantidad de usuarios (escala log)')\n",
    "plt.title('Distribución de número de ratings por usuario')\n",
    "plt.tight_layout()\n",
    "\n",
    "# 3. Histograma de longitud de descripciones (solo ítems con descripción)\n",
    "def normalize_desc(x):\n",
    "    if isinstance(x, list):\n",
    "        return ' '.join([str(fragment) for fragment in x if fragment])\n",
    "    elif isinstance(x, str):\n",
    "        return x\n",
    "    else:\n",
    "        return ''\n",
    "\n",
    "desc = metadata_df['description'].apply(normalize_desc).fillna('')\n",
    "desc_lens = desc.apply(lambda t: len(t.split()) if t.strip() else 0)\n",
    "plt.figure()\n",
    "desc_lens[desc_lens > 0].hist(bins=50, log=True)\n",
    "plt.xlabel('Longitud de descripción (palabras)')\n",
    "plt.ylabel('Número de ítems (escala log)')\n",
    "plt.title('Distribución de longitud de descripciones')\n",
    "plt.tight_layout()\n",
    "\n",
    "# 4. Serie de tiempo: número de ratings por mes\n",
    "df['year_month'] = df['timestamp'].dt.to_period('M')\n",
    "\n",
    "monthly_counts = df.groupby('year_month').size().sort_index()\n",
    "plt.figure(figsize=(10, 4))\n",
    "monthly_counts.plot(marker='o', linestyle='-')\n",
    "plt.xlabel('Mes')\n",
    "plt.ylabel('Número de ratings')\n",
    "plt.title('Número de Ratings por Mes')\n",
    "plt.xticks(rotation=45, ha='right')\n",
    "plt.tight_layout()\n",
    "\n",
    "plt.show()\n",
    "\n"
   ]
  },
  {
   "cell_type": "markdown",
   "id": "dc4e54d9",
   "metadata": {},
   "source": [
    "## 3. Modelos de prueba"
   ]
  },
  {
   "cell_type": "markdown",
   "id": "e0dc84ea",
   "metadata": {},
   "source": [
    "#### 3.1. Modelos simples"
   ]
  },
  {
   "cell_type": "code",
   "execution_count": 57,
   "id": "d36a3973",
   "metadata": {},
   "outputs": [],
   "source": [
    "def asin_to_title(asin: str) -> str:\n",
    "    \"\"\"\n",
    "    Dada un ASIN, devuelve el título del videojuego.\n",
    "    \"\"\"\n",
    "    if asin in metadata_df['parent_asin'].values:\n",
    "        return metadata_df.loc[metadata_df['parent_asin'] == asin, 'title'].values[0]\n",
    "    else:\n",
    "        return \"Título no encontrado\"\n",
    "    \n",
    "def print_recommendations(recommendations: list):\n",
    "    \"\"\"\n",
    "    Imprime las recomendaciones con sus títulos.\n",
    "    \"\"\"\n",
    "    print(\"Recomendaciones:\")\n",
    "    for asin in recommendations:\n",
    "        title = asin_to_title(asin)\n",
    "        print(f\"- {title} (ASIN: {asin})\")\n",
    "    "
   ]
  },
  {
   "cell_type": "markdown",
   "id": "c23d73f5",
   "metadata": {},
   "source": [
    "Realizamos pruebas con diferentes modelos simples de referencia. Utilizamos una clase RecomendadorBase que se utiliza para crear los otros recomendadores."
   ]
  },
  {
   "cell_type": "code",
   "execution_count": 58,
   "id": "3f60e5e5",
   "metadata": {},
   "outputs": [],
   "source": [
    "from surprise import Dataset, Reader, KNNBasic, SVD\n",
    "\n",
    "class RecomendadorBase:\n",
    "    \"\"\"\n",
    "    Clase base para todos los recomendadores.\n",
    "    Formato a utilizar: userId, itemId, rating\n",
    "    \"\"\"\n",
    "    def fit(self, df: pd.DataFrame):\n",
    "        raise NotImplementedError\n",
    "\n",
    "    def recommend(self, user_id, n_items=10):\n",
    "        raise NotImplementedError"
   ]
  },
  {
   "cell_type": "markdown",
   "id": "33768745",
   "metadata": {},
   "source": [
    "Recomendadores base, Random y Most Popular. Estos recomendadores no utilizan información de los usuarios ni de los ítems, sino que se basan en estrategias simples para generar recomendaciones."
   ]
  },
  {
   "cell_type": "code",
   "execution_count": 92,
   "id": "c5ab8f9a",
   "metadata": {},
   "outputs": [],
   "source": [
    "class RecomendadorRandom(RecomendadorBase):\n",
    "    \"\"\"\n",
    "    Recomendador aleatorio.\n",
    "    \"\"\"\n",
    "    import numpy as np\n",
    "    def fit(self, df: pd.DataFrame):\n",
    "        self.df = df['asin'].unique().tolist()\n",
    "\n",
    "    def recommend(self, user_id, n_items=10):\n",
    "        recs = np.random.choice(self.df, size=n_items, replace=False)\n",
    "        return recs.tolist()\n",
    "    \n",
    "class RecomendadorPopular(RecomendadorBase):\n",
    "    \"\"\"\n",
    "    Recomendador basado en popularidad.\n",
    "    \"\"\"\n",
    "    def fit(self, df: pd.DataFrame):\n",
    "        train_pos = df[df['rating'] >= 4]\n",
    "\n",
    "        pop_counts = (\n",
    "            train_pos\n",
    "            .groupby('asin')\n",
    "            .size()\n",
    "            .reset_index(name='pos_count')\n",
    "            .sort_values('pos_count', ascending=False)\n",
    "        )\n",
    "        \n",
    "        self.most_popular_list = pop_counts['asin'].tolist()\n",
    "\n",
    "    def recommend(self, user_id, n_items=10):\n",
    "        return self.most_popular_list[:n_items]\n"
   ]
  },
  {
   "cell_type": "markdown",
   "id": "0fdae256",
   "metadata": {},
   "source": [
    "#### 3.2. Modelo basado en contenido"
   ]
  },
  {
   "cell_type": "code",
   "execution_count": 102,
   "id": "bc67d75c",
   "metadata": {},
   "outputs": [],
   "source": [
    "from scipy.sparse import vstack\n",
    "\n",
    "def user_profile(user_id):\n",
    "    # Ítems positivos en train (rating >= 4)\n",
    "    uid_train_pos = df[\n",
    "        (df['user_id'] == user_id) & (df['rating'] >= 4)\n",
    "    ]['asin'].tolist()\n",
    "    vectors = []\n",
    "    \n",
    "    for a in uid_train_pos:\n",
    "        if a in item_to_idx:\n",
    "            vectors.append(item_tfidf[item_to_idx[a]])\n",
    "    if not vectors:\n",
    "        return None\n",
    "    return vstack(vectors).mean(axis=0)"
   ]
  },
  {
   "cell_type": "code",
   "execution_count": null,
   "id": "b16a9df0",
   "metadata": {},
   "outputs": [],
   "source": [
    "from sklearn.feature_extraction.text import TfidfVectorizer\n",
    "from sklearn.metrics.pairwise import linear_kernel\n",
    "from scipy.sparse import vstack\n",
    "import numpy as np\n",
    "\n",
    "class RecomendadorContent(RecomendadorBase):\n",
    "    \"\"\"\n",
    "    Recomendador basado en contenido (TF-IDF + cosine).\n",
    "    \"\"\"\n",
    "    def fit(self, df: pd.DataFrame):\n",
    "        self.df = df\n",
    "\n",
    "        if 'text_features' not in metadata_df.columns:\n",
    "            metadata_df['text_features'] = (\n",
    "                metadata_df['title'].fillna('') + ' ' +\n",
    "                metadata_df['description'].apply(lambda x: ' '.join(x) if isinstance(x, list) else '') + ' ' +\n",
    "                metadata_df['main_category'].fillna('')\n",
    "            )\n",
    "        \n",
    "        self.tfidf = TfidfVectorizer(max_features=5000)\n",
    "        self.item_tfidf = self.tfidf.fit_transform(metadata_df['text_features'])\n",
    "        \n",
    "        self.item_to_idx = {asin: idx for idx, asin in enumerate(metadata_df['parent_asin'])}\n",
    "        self.asin_list = list(metadata_df['parent_asin'])\n",
    "\n",
    "    def recommend(self, user_id, n_items=10):\n",
    "        # 1) Obtenemos los ítems que el usuario ha valorado >= 4 en el DF de entrenamiento\n",
    "        \n",
    "        user_hist = self.df[(self.df['user_id'] == user_id) & (self.df['rating'] >= 4)]['asin'].tolist()\n",
    "        \n",
    "        if not user_hist:\n",
    "            # Si no hay historial positivo, caemos al recomendador de popularidad (Fallback)\n",
    "            popular_recommender = RecomendadorPopular()\n",
    "            popular_recommender.fit(self.df)\n",
    "            return popular_recommender.recommend(user_id, n_items)\n",
    "\n",
    "        # 2) Convertir el historial a índices TF-IDF\n",
    "        idx_list = [self.item_to_idx[asin] for asin in user_hist if asin in self.item_to_idx]\n",
    "        if not idx_list:\n",
    "            # Si ninguno de los ASIN del historial está en metadata_df\n",
    "            popular_recommender = RecomendadorPopular()\n",
    "            popular_recommender.fit(self.df)\n",
    "            return popular_recommender.recommend(user_id, n_items)\n",
    "\n",
    "        # 3) Calcular vector de perfil del usuario (media de sus vectores TF-IDF)\n",
    "        user_vec = vstack([self.item_tfidf[i] for i in idx_list]).mean(axis=0)\n",
    "        user_vec = np.asarray(user_vec) # Arregla error en python 3.11\n",
    "\n",
    "        sims = linear_kernel(user_vec, self.item_tfidf).flatten()  # ya es np.ndarray\n",
    "\n",
    "        # 5) Ordenar de mayor a menor similitud y filtrar los ya vistos\n",
    "        top_indices = np.argsort(sims)[::-1]\n",
    "        recs = []\n",
    "        seen = set(self.df[self.df['user_id'] == user_id]['asin'].tolist())\n",
    "        for idx in top_indices:\n",
    "            cand_asin = self.asin_list[idx]\n",
    "            if cand_asin not in seen:\n",
    "                recs.append(cand_asin)\n",
    "                if len(recs) == n_items:\n",
    "                    break\n",
    "\n",
    "        return recs\n"
   ]
  },
  {
   "cell_type": "code",
   "execution_count": 84,
   "id": "cb4a2fcb",
   "metadata": {},
   "outputs": [],
   "source": [
    "content_reccommender = RecomendadorContent()\n",
    "content_reccommender.fit(train_df)\n"
   ]
  },
  {
   "cell_type": "code",
   "execution_count": 67,
   "id": "82f4d288",
   "metadata": {},
   "outputs": [
    {
     "name": "stdout",
     "output_type": "stream",
     "text": [
      "Recomendaciones de contenido para un usuario random:\n",
      "Recomendaciones:\n",
      "- Pride and Prejudice (PC DVD) (UK Import) (ASIN: B009NOTZ0U)\n",
      "- Emergency 5 (PC DVD) (UK IMPORT) (ASIN: B00MLWA6FO)\n",
      "- Phantasmat: Crucible Peak (PC DVD) (UK IMPORT) (ASIN: B00TQT7KTU)\n",
      "- Fishdom 3 (PC DVD) (UK IMPORT) (ASIN: B00F06MV1K)\n",
      "- TransOcean (PC DVD) (UK IMPORT) (ASIN: B00OBHO9JQ)\n",
      "- Malice Two Sisters (PC DVD) (UK IMPORT) (ASIN: B00TQT1L6S)\n",
      "- Dark Alleys: Penumbra Motel (PC DVD) (UK IMPORT) (ASIN: B00TQTSRJC)\n",
      "- The Keepers: Lost Progeny (PC DVD) (UK IMPORT) (ASIN: B00BJLBM7E)\n",
      "- R.U.S.E (PC DVD) (UK) (ASIN: B002U0KBQ6)\n",
      "- Goat Simulator (PC DVD) (UK Import) (ASIN: B00K0FJN9E)\n"
     ]
    }
   ],
   "source": [
    "print(\"Recomendaciones de contenido para un usuario random:\")\n",
    "user_id = train_df['user_id'].sample().iloc[0]\n",
    "content_recs = content_reccommender.recommend(user_id, n_items=10)\n",
    "print_recommendations(content_recs)"
   ]
  },
  {
   "cell_type": "markdown",
   "id": "b54b0f8a",
   "metadata": {},
   "source": [
    "#### 3.3. Modelo basado en DeepFM"
   ]
  },
  {
   "cell_type": "code",
   "execution_count": null,
   "id": "2222cbf9",
   "metadata": {},
   "outputs": [],
   "source": [
    "import pandas as pd\n",
    "import numpy as np\n",
    "import torch\n",
    "import torch.nn as nn\n",
    "import torch.optim as optim\n",
    "from sklearn.preprocessing import LabelEncoder\n",
    "from torch.utils.data import DataLoader, Dataset\n",
    "from tqdm import tqdm \n"
   ]
  },
  {
   "cell_type": "code",
   "execution_count": 68,
   "id": "369047a2",
   "metadata": {},
   "outputs": [
    {
     "name": "stdout",
     "output_type": "stream",
     "text": [
      "Device: cuda\n"
     ]
    }
   ],
   "source": [
    "device = torch.device(\"cuda\" if torch.cuda.is_available() else \"cpu\")\n",
    "print(f\"Device: {device}\")"
   ]
  },
  {
   "cell_type": "markdown",
   "id": "f5be38da",
   "metadata": {},
   "source": [
    "Creación modelo DeepFM"
   ]
  },
  {
   "cell_type": "code",
   "execution_count": null,
   "id": "08c1d6e4",
   "metadata": {},
   "outputs": [],
   "source": [
    "class InteractionDataset(Dataset):\n",
    "    def __init__(self, features, labels):\n",
    "        self.features = features\n",
    "        self.labels = labels\n",
    "\n",
    "    def __len__(self):\n",
    "        return len(self.labels)\n",
    "\n",
    "    def __getitem__(self, idx):\n",
    "        return self.features[idx], self.labels[idx]\n",
    "\n",
    "class DeepFM(nn.Module):\n",
    "    def __init__(self, field_dims, embed_dim=8, mlp_dims=[32, 32], dropout=0.2):\n",
    "        super(DeepFM, self).__init__()\n",
    "\n",
    "        self.linear_embeddings = nn.ModuleList([\n",
    "            nn.Embedding(dim, 1) for dim in field_dims\n",
    "        ])\n",
    "        # FM: Un embedding por campo\n",
    "        self.fm_embeddings = nn.ModuleList([\n",
    "            nn.Embedding(dim, embed_dim) for dim in field_dims\n",
    "        ])\n",
    "\n",
    "        input_dim = embed_dim * len(field_dims)\n",
    "        layers = []\n",
    "        for dim in mlp_dims:\n",
    "            layers.append(nn.Linear(input_dim, dim))\n",
    "            layers.append(nn.ReLU())\n",
    "            layers.append(nn.Dropout(dropout))\n",
    "            input_dim = dim\n",
    "        layers.append(nn.Linear(input_dim, 1))  # OUTPUT\n",
    "        \n",
    "        self.mlp = nn.Sequential(*layers)\n",
    "        self.sigmoid = nn.Sigmoid()\n",
    "\n",
    "    def forward(self, x):\n",
    "        linear_terms = [emb(x[:, i]) for i, emb in enumerate(self.linear_embeddings)]\n",
    "        linear = torch.sum(torch.cat(linear_terms, dim=1), dim=1, keepdim=True)\n",
    "\n",
    "        fm_embeddings = [emb(x[:, i]) for i, emb in enumerate(self.fm_embeddings)]\n",
    "        fm_stack = torch.stack(fm_embeddings, dim=1)        # (batch, num_fields, embed_dim)\n",
    "        sum_of_sq = torch.sum(fm_stack, dim=1) ** 2         # (batch, embed_dim)\n",
    "        sq_of_sum = torch.sum(fm_stack ** 2, dim=1)         # (batch, embed_dim)\n",
    "        fm_second = 0.5 * torch.sum(sum_of_sq - sq_of_sum, dim=1, keepdim=True)\n",
    "\n",
    "        # Deep\n",
    "        deep_input = fm_stack.view(fm_stack.size(0), -1)    # (batch, num_fields * embed_dim)\n",
    "        deep_out = self.mlp(deep_input)\n",
    "\n",
    "        # OUTPUT\n",
    "        output = linear + fm_second + deep_out\n",
    "        return output.squeeze(1)"
   ]
  },
  {
   "cell_type": "code",
   "execution_count": null,
   "id": "6f935500",
   "metadata": {},
   "outputs": [],
   "source": [
    "class RecomendadorDeepFM:\n",
    "    \"\"\"\n",
    "    Recomendador basado en DeepFM.\n",
    "    Utiliza campos categóricos: user_id, item_id, main_category, store.\n",
    "    Si no hay historial para el usuario, usa recomendador Popular como fallback.\n",
    "    Formato de entrenamiento: df interactúa con columnas ['user_id', 'asin', 'rating'].\n",
    "    metadata_df: DataFrame con columnas ['parent_asin', 'main_category', 'store'].\n",
    "    \"\"\"\n",
    "    def __init__(self, metadata_df, device='auto', embed_dim=8, mlp_dims=[32, 32], dropout=0.2, lr=0.001, epochs=5, batch_size=1024):\n",
    "        self.metadata_df = metadata_df.copy()\n",
    "        if device == 'auto':\n",
    "            self.device = torch.device('cuda' if torch.cuda.is_available() else 'cpu')\n",
    "        else:\n",
    "            self.device = torch.device(device)\n",
    "        print(f\"Device: {self.device}\")\n",
    "        \n",
    "        self.embed_dim = embed_dim\n",
    "        self.mlp_dims = mlp_dims\n",
    "        self.dropout = dropout\n",
    "        self.lr = lr\n",
    "        self.epochs = epochs\n",
    "        self.batch_size = batch_size\n",
    "\n",
    "    def fit(self, df: pd.DataFrame):\n",
    "        data = df.merge(\n",
    "            self.metadata_df[['parent_asin', 'main_category', 'store']],\n",
    "            left_on='asin', right_on='parent_asin', how='left'\n",
    "        )\n",
    "        data['main_category'] = data['main_category'].fillna('Unknown')\n",
    "        data['store'] = data['store'].fillna('Unknown')\n",
    "\n",
    "        # Encoder de categorías\n",
    "        self.user_enc = LabelEncoder()\n",
    "        data['user_idx'] = self.user_enc.fit_transform(data['user_id'])\n",
    "        self.item_enc = LabelEncoder()\n",
    "        data['item_idx'] = self.item_enc.fit_transform(data['asin'])\n",
    "        self.cat_enc = LabelEncoder()\n",
    "        data['cat_idx'] = self.cat_enc.fit_transform(data['main_category'])\n",
    "        self.store_enc = LabelEncoder()\n",
    "        data['store_idx'] = self.store_enc.fit_transform(data['store'])\n",
    "\n",
    "        self.idx_to_item = {idx: item for item, idx in zip(data['asin'], data['item_idx'])}\n",
    "        self.user_num = data['user_idx'].nunique()\n",
    "        self.item_num = data['item_idx'].nunique()\n",
    "        self.cat_num = data['cat_idx'].nunique()\n",
    "        self.store_num = data['store_idx'].nunique()\n",
    "\n",
    "        features = data[['user_idx', 'item_idx', 'cat_idx', 'store_idx']].values\n",
    "        labels = data['rating'].values.astype(np.float32)\n",
    "\n",
    "        self.train_df = df.copy()\n",
    "        self.popularity = df.groupby('asin')['rating'].mean().sort_values(ascending=False)\n",
    "\n",
    "        field_dims = [self.user_num, self.item_num, self.cat_num, self.store_num]\n",
    "\n",
    "        # Iniciar el modelo\n",
    "        self.model = DeepFM(field_dims, embed_dim=self.embed_dim, mlp_dims=self.mlp_dims, dropout=self.dropout)\n",
    "        self.model.to(self.device)\n",
    "\n",
    "        self.criterion = nn.MSELoss()\n",
    "        self.optimizer = optim.Adam(self.model.parameters(), lr=self.lr)\n",
    "\n",
    "        dataset = InteractionDataset(torch.LongTensor(features), torch.FloatTensor(labels))\n",
    "        loader = DataLoader(dataset, batch_size=self.batch_size, shuffle=True)\n",
    "\n",
    "        self.model.train()\n",
    "        for epoch in range(self.epochs):\n",
    "            epoch_loss = 0.0\n",
    "            batch_iter = tqdm(loader, desc=f\"Epoch {epoch+1}/{self.epochs}\", unit=\"batch\")\n",
    "            for batch_features, batch_labels in batch_iter:\n",
    "                batch_features = batch_features.to(self.device)\n",
    "                batch_labels = batch_labels.to(self.device)\n",
    "\n",
    "                self.optimizer.zero_grad()\n",
    "                outputs = self.model(batch_features)\n",
    "                loss = self.criterion(outputs, batch_labels)\n",
    "                loss.backward()\n",
    "                self.optimizer.step()\n",
    "                batch_loss = loss.item() * batch_labels.size(0)\n",
    "                epoch_loss += batch_loss\n",
    "                batch_iter.set_postfix({'batch_loss': f\"{batch_loss/batch_labels.size(0):.4f}\"})\n",
    "\n",
    "            avg_epoch_loss = epoch_loss / len(dataset)\n",
    "            print(f\">>> Epoch {epoch+1}/{self.epochs} completed, Avg Loss: {avg_epoch_loss:.4f}\")\n",
    "\n",
    "    def recommend(self, user_id, n_items=10):\n",
    "        if user_id not in self.train_df['user_id'].unique():\n",
    "            return list(self.popularity.head(n_items).index)\n",
    "\n",
    "        user_idx = self.user_enc.transform([user_id])[0]\n",
    "\n",
    "        seen = set(self.train_df[self.train_df['user_id'] == user_id]['asin'].tolist())\n",
    "\n",
    "        all_items = np.array(list(self.item_enc.classes_))\n",
    "        all_item_idxs = np.arange(self.item_num)\n",
    "\n",
    "        # Metadata \n",
    "        meta = self.metadata_df.set_index('parent_asin').reindex(all_items)\n",
    "        meta['main_category'] = meta['main_category'].fillna('Unknown')\n",
    "        meta['store'] = meta['store'].fillna('Unknown')\n",
    "\n",
    "        cat_idxs = self.cat_enc.transform(meta['main_category'])\n",
    "        store_idxs = self.store_enc.transform(meta['store'])\n",
    "\n",
    "        user_idxs = np.full(self.item_num, user_idx, dtype=np.int64)\n",
    "        features = np.stack([user_idxs, all_item_idxs, cat_idxs, store_idxs], axis=1)\n",
    "        features_tensor = torch.LongTensor(features).to(self.device)\n",
    "\n",
    "        self.model.eval()\n",
    "        with torch.no_grad():\n",
    "            scores = self.model(features_tensor).cpu().numpy()\n",
    "\n",
    "        # Lista scores y filtrar ítems ya vistos\n",
    "        candidates = []\n",
    "        for idx, score in enumerate(scores):\n",
    "            item = all_items[idx]\n",
    "            if item not in seen:\n",
    "                candidates.append((item, score))\n",
    "                \n",
    "        candidates.sort(key=lambda x: x[1], reverse=True)\n",
    "        recs = [item for item, _ in candidates[:n_items]]\n",
    "        return recs\n",
    "\n"
   ]
  },
  {
   "cell_type": "code",
   "execution_count": 81,
   "id": "39763443",
   "metadata": {},
   "outputs": [
    {
     "name": "stdout",
     "output_type": "stream",
     "text": [
      "Device: cuda\n"
     ]
    },
    {
     "name": "stderr",
     "output_type": "stream",
     "text": [
      "Epoch 1/5: 100%|██████████| 204/204 [00:03<00:00, 67.02batch/s, batch_loss=23.8919]\n"
     ]
    },
    {
     "name": "stdout",
     "output_type": "stream",
     "text": [
      ">>> Epoch 1/5 completed, Avg Loss: 34.4661\n"
     ]
    },
    {
     "name": "stderr",
     "output_type": "stream",
     "text": [
      "Epoch 2/5: 100%|██████████| 204/204 [00:03<00:00, 65.94batch/s, batch_loss=22.0802]\n"
     ]
    },
    {
     "name": "stdout",
     "output_type": "stream",
     "text": [
      ">>> Epoch 2/5 completed, Avg Loss: 20.9106\n"
     ]
    },
    {
     "name": "stderr",
     "output_type": "stream",
     "text": [
      "Epoch 3/5: 100%|██████████| 204/204 [00:03<00:00, 63.69batch/s, batch_loss=16.6248]\n"
     ]
    },
    {
     "name": "stdout",
     "output_type": "stream",
     "text": [
      ">>> Epoch 3/5 completed, Avg Loss: 17.3827\n"
     ]
    },
    {
     "name": "stderr",
     "output_type": "stream",
     "text": [
      "Epoch 4/5: 100%|██████████| 204/204 [00:06<00:00, 30.98batch/s, batch_loss=13.8144]\n"
     ]
    },
    {
     "name": "stdout",
     "output_type": "stream",
     "text": [
      ">>> Epoch 4/5 completed, Avg Loss: 14.8643\n"
     ]
    },
    {
     "name": "stderr",
     "output_type": "stream",
     "text": [
      "Epoch 5/5: 100%|██████████| 204/204 [00:03<00:00, 66.80batch/s, batch_loss=14.6211]\n"
     ]
    },
    {
     "name": "stdout",
     "output_type": "stream",
     "text": [
      ">>> Epoch 5/5 completed, Avg Loss: 13.0003\n"
     ]
    }
   ],
   "source": [
    "interactions_df = train_df[['user_id', 'asin', 'rating']]\n",
    "\n",
    "deepfm_recommender = RecomendadorDeepFM(metadata_df)\n",
    "deepfm_recommender.fit(interactions_df)"
   ]
  },
  {
   "cell_type": "code",
   "execution_count": 74,
   "id": "a62798f3",
   "metadata": {},
   "outputs": [
    {
     "name": "stdout",
     "output_type": "stream",
     "text": [
      "Recomendaciones para el usuario AFVIIQW6BWJZQS6ADV73TILXWA5A:\n",
      "Recomendaciones:\n",
      "- sarlar Carrying Case Compatible with Meta/Oculus Quest 2 and Accessories, Hard Travel Bag for Lightweight and Portable Protection (ASIN: B09TZR5DQ1)\n",
      "- IOGEAR Kaliber Gaming Wireless Gaming Keyboard and Mouse Combo, GKM602R (ASIN: B010XDL5NY)\n",
      "- Dobe Xbox One Slim Cooling Fan, 3-Fan-Supper-Turbe High Speed Cooling System, Cooling Fan [with 3 Gears High Low Off] for Microsoft Xbox One Slim Console White (ASIN: B078RJQSY6)\n",
      "- Dust Filter Set Compatible with Xbox Series S, ZAONOOL 7 Silicone Dust Plugs and 4 PVC Dust Filter, USB HDMI LAN Power CD Driver Interface Anti-dust Cover Dustproof Plug for Xbox Series S Console (ASIN: B09SHGPPTW)\n",
      "- VIVO Universal Video Game Controller Wall Mount Holders, Compatible with Playstation, Xbox, NVIDIA, Nintendo Switch Controllers, and More, 2-Pack, Black, MOUNT-GM01C (ASIN: B083B6WVXQ)\n",
      "- Worms 3D (ASIN: B0000VMIMC)\n",
      "- Tiger Eye Curse Of The Riddle Box - PC/Mac (ASIN: B00423HII8)\n",
      "- AJAZZ AK50 Mechanical Keyboard with Brown Switches, 104 Standard Keys Classic Layout, Anti-Ghosting Professional Gaming Keyboard, Yellow LED Backlit, Black (ASIN: B07G4CV766)\n",
      "- Gaming Mouse Pad, Large Mouse Pad, 12 Kinds of Lighting Effects, Waterproof and Smooth Surface, Non Slip Rubber Base, Suitable for Gamers, Computers, Offices, Homes (800 x 300mm) (ASIN: B087RDGCQ2)\n",
      "- Akko 98-Key 1800 Compact Wired Mechanical Gaming Keyboard, Matcha Red Bean Themed Programmable Green Keyboard,  PBT Doubleshot Keycaps and Anti-Ghosting (Gateron Pink Linear Switch) (ASIN: B08TGCY8LX)\n"
     ]
    }
   ],
   "source": [
    "user_id = interactions_df['user_id'].sample().iloc[0]\n",
    "recommendations = deepfm_recommender.recommend(user_id, n_items=10)\n",
    "\n",
    "print(f\"Recomendaciones para el usuario {user_id}:\")\n",
    "print_recommendations(recommendations)"
   ]
  },
  {
   "cell_type": "code",
   "execution_count": 93,
   "id": "7545f0c7",
   "metadata": {},
   "outputs": [],
   "source": [
    "random_recommender = RecomendadorRandom()\n",
    "random_recommender.fit(train_df)\n",
    "\n",
    "popular_recommender = RecomendadorPopular()\n",
    "popular_recommender.fit(train_df)"
   ]
  },
  {
   "cell_type": "code",
   "execution_count": 105,
   "id": "eb0b6915",
   "metadata": {},
   "outputs": [
    {
     "name": "stdout",
     "output_type": "stream",
     "text": [
      "Recomendaciones aleatorias para el usuario AENYDYUMGR7HWTVTO2WDNTT2QN5A:\n",
      "Recomendaciones:\n",
      "- Call of Duty: Advanced Warfare - PS3 [Digital Code] (ASIN: B00OTXYYEM)\n",
      "- Título no encontrado (ASIN: B0009UUQG4)\n",
      "- Título no encontrado (ASIN: B0014DUYO4)\n",
      "- Wii Lighted Console Stand Coolier (ASIN: B000VL1K3Y)\n",
      "- Título no encontrado (ASIN: B0009R1SWS)\n",
      "- Destiny 2 - PS4 [Digital Code] (ASIN: B06XXRJF7X)\n",
      "- Título no encontrado (ASIN: B09RMMBZBR)\n",
      "- Star Wars Episode III Revenge of the Sith - Xbox (ASIN: B0007SL202)\n",
      "- Título no encontrado (ASIN: B0029ZUPSQ)\n",
      "- KOLMAX HUNTER 60% RGB Gaming Keyboard,61 Keys RGB Backlit Wired Gaming Keyboard/Office Mini Keyboard for PC/Mac/Linux/Laptop(White) (ASIN: B08QFBZXRP)\n",
      "\n",
      "Recomendaciones populares para el usuario AENYDYUMGR7HWTVTO2WDNTT2QN5A:\n",
      "Recomendaciones:\n",
      "- amFilm Tempered Glass Screen Protector for Nintendo Switch 2017 (2-Pack) (ASIN: B01N3ASPNV)\n",
      "- Título no encontrado (ASIN: B01H6GUCCQ)\n",
      "- PlayStation Plus: 12 Month Membership [Digital Code] (ASIN: B004RMK5QG)\n",
      "- Título no encontrado (ASIN: B002VBWIP6)\n",
      "- PlayStation 4 500GB Console [Old Model][Discontinued] (ASIN: B00BGA9WK2)\n",
      "- American Sniper: The Autobiography of the Most Lethal Sniper in U.S. Military History (ASIN: B005GFPZYK)\n",
      "- Redragon M601 RGB Gaming Mouse Backlit Wired Ergonomic 7 Button Programmable Mouse Centrophorus with Macro Recording & Weight Tuning Set 7200 DPI for Windows PC (Black) (ASIN: B00HTK1NCS)\n",
      "- Título no encontrado (ASIN: B01NAWKYZ0)\n",
      "- Título no encontrado (ASIN: B01MS6MO77)\n",
      "- Título no encontrado (ASIN: B01NAUKS62)\n",
      "\n",
      "Recomendaciones de contenido para el usuario AENYDYUMGR7HWTVTO2WDNTT2QN5A:\n",
      "Recomendaciones:\n",
      "- amFilm Tempered Glass Screen Protector for Nintendo Switch 2017 (2-Pack) (ASIN: B01N3ASPNV)\n",
      "- Título no encontrado (ASIN: B01H6GUCCQ)\n",
      "- PlayStation Plus: 12 Month Membership [Digital Code] (ASIN: B004RMK5QG)\n",
      "- Título no encontrado (ASIN: B002VBWIP6)\n",
      "- PlayStation 4 500GB Console [Old Model][Discontinued] (ASIN: B00BGA9WK2)\n",
      "- American Sniper: The Autobiography of the Most Lethal Sniper in U.S. Military History (ASIN: B005GFPZYK)\n",
      "- Redragon M601 RGB Gaming Mouse Backlit Wired Ergonomic 7 Button Programmable Mouse Centrophorus with Macro Recording & Weight Tuning Set 7200 DPI for Windows PC (Black) (ASIN: B00HTK1NCS)\n",
      "- Título no encontrado (ASIN: B01NAWKYZ0)\n",
      "- Título no encontrado (ASIN: B01MS6MO77)\n",
      "- Título no encontrado (ASIN: B01NAUKS62)\n",
      "\n",
      "Recomendaciones de DeepFM para el usuario AENYDYUMGR7HWTVTO2WDNTT2QN5A:\n",
      "Recomendaciones:\n",
      "- SCAVATA Carrying Case for Steam Deck, Portable Hard Travel Pouch Bag for Steam Deck Console & Accessories with Built-in AC Adapter Storage & Thumb Grips & Screen Protector (ASIN: B0BGN6JQHP)\n",
      "- N64 Converter N64 HDMI Converter Support 16:9/4:3 Convert N64 Cable to HDMI & N64 Cable to HDMI (ASIN: B08GKK28MV)\n",
      "- REV. LANG Hard Carrying Case for Meta/Oculus Quest 2 Basic/Elite Version VR Gaming Headset Cable and Touch Controllers Accessories All-in-One, Ultra-Sleek Design for Travel (ASIN: B0B3J61J3V)\n",
      "- Titan Two Games Console Cross-Platform Controller Converter/Adapter (ASIN: B078J2HQ9D)\n",
      "- Charging Station for PS5 Controller Charging Dock (A - Black) (ASIN: B0BYCPHW5Q)\n",
      "- Deep Tissue Percussion Muscle Cellulite Massager,Handheld Electric Full Body Therapy Massage Gun for Sore Muscle, Stiffness, Sciatica and Back Pain,Including 4 Massage Heads,Gift for him or her (ASIN: B08Z366X53)\n",
      "- Glossy Purple Custom Controller Shell for PS3 (ASIN: B00FJ3QR6O)\n",
      "- ADDISON BELLE 100% Organic Muslin Swaddle Blanket Oversized 47 inches x 47 inches - Best Premium Receiving Blanket (Love, Monochrome Print) (ASIN: B0152ATL70)\n",
      "- Ugly Dolls: An Imperfect Adventure - Nintendo Switch (ASIN: B07NHP8F53)\n",
      "- HUIUKE Face Cushion Pad and Facial Interface Set for Quest 2 | Removable Facial Interface Frame & Two Foam Face Covers Replacement & Anti-Leakage Nose Pad & Lens Cover (ASIN: B09LYLSJ1Z)\n"
     ]
    }
   ],
   "source": [
    "random_user_id = train_df['user_id'].sample().iloc[0]\n",
    "\n",
    "print(f\"Recomendaciones aleatorias para el usuario {random_user_id}:\")\n",
    "\n",
    "random_recs = random_recommender.recommend(random_user_id, n_items=10)\n",
    "print_recommendations(random_recs)\n",
    "\n",
    "print(f\"\\nRecomendaciones populares para el usuario {random_user_id}:\")\n",
    "popular_recs = popular_recommender.recommend(random_user_id, n_items=10)\n",
    "print_recommendations(popular_recs)\n",
    "\n",
    "print(f\"\\nRecomendaciones de contenido para el usuario {random_user_id}:\")\n",
    "content_recs = content_reccommender.recommend(random_user_id, n_items=10)\n",
    "print_recommendations(content_recs)\n",
    "\n",
    "print(f\"\\nRecomendaciones de DeepFM para el usuario {random_user_id}:\")\n",
    "deepfm_recs = deepfm_recommender.recommend(random_user_id, n_items=10)\n",
    "print_recommendations(deepfm_recs)"
   ]
  }
 ],
 "metadata": {
  "kernelspec": {
   "display_name": "Python 3",
   "language": "python",
   "name": "python3"
  },
  "language_info": {
   "codemirror_mode": {
    "name": "ipython",
    "version": 3
   },
   "file_extension": ".py",
   "mimetype": "text/x-python",
   "name": "python",
   "nbconvert_exporter": "python",
   "pygments_lexer": "ipython3",
   "version": "3.11.9"
  }
 },
 "nbformat": 4,
 "nbformat_minor": 5
}
